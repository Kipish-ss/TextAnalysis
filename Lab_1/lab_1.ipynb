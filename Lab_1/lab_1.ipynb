{
 "cells": [
  {
   "cell_type": "code",
   "execution_count": 1,
   "outputs": [],
   "source": [
    "import re"
   ],
   "metadata": {
    "collapsed": false,
    "ExecuteTime": {
     "start_time": "2024-02-22T12:22:27.961904Z"
    }
   },
   "id": "initial_id"
  },
  {
   "cell_type": "markdown",
   "id": "4e8d291739304b83",
   "metadata": {
    "collapsed": false
   },
   "source": [
    "## Зчитування текстового файлу як рядок"
   ]
  },
  {
   "cell_type": "code",
   "execution_count": 2,
   "id": "5369f9ce6f1b6a75",
   "metadata": {
    "collapsed": false,
    "ExecuteTime": {
     "end_time": "2024-02-22T12:22:27.983151Z",
     "start_time": "2024-02-22T12:22:27.963699Z"
    }
   },
   "outputs": [
    {
     "data": {
      "text/plain": "'It was a 18:15 when we left Baker STreet 221b, and it still\\nwanted ten minutes to the hour 6-50pm when we found ourselves in SERPENtine\\nAvenue@mail.com. It was already dusk,, and the lamps were just being lighted as\\nwe paced up and down in front of BrioNY Lodge, waiting for the coming\\nof its (343)-45-23 occupant. The house 345-A was just such as I had pictured it from\\nSherlock  Holmes’s succinct description, but the locality appeared to\\nbe less private that I    expected 456-45-34. On the contrary, for a small Street 23 \\nin a quiet neighborhood here1232@emm.uk, it was remarkably animated. There was a\\ngroup of   shabbily-dressed men smoking and laughing in a corner, a\\nscissors-grinder +308-45-32-21 with his wheel, two guardsmen who were flirting with a\\nnurse-girl, and several well-dressed young men who were lounging up and\\ndown with cigars in their mouths j.watson@gmail.com!!!'"
     },
     "execution_count": 2,
     "metadata": {},
     "output_type": "execute_result"
    }
   ],
   "source": [
    "with open('text2.txt') as file:\n",
    "    text = file.read()\n",
    "text"
   ]
  },
  {
   "cell_type": "markdown",
   "id": "bd9b3de132fd2a3e",
   "metadata": {
    "collapsed": false
   },
   "source": [
    "## Виділення частини тексту (перше речення) в окрему змінну-рядок за допомогою зрізу"
   ]
  },
  {
   "cell_type": "code",
   "execution_count": 3,
   "id": "e649c12f34f93aae",
   "metadata": {
    "collapsed": false,
    "ExecuteTime": {
     "end_time": "2024-02-22T12:22:27.983438Z",
     "start_time": "2024-02-22T12:22:27.967372Z"
    }
   },
   "outputs": [
    {
     "data": {
      "text/plain": "'It was a 18:15 when we left Baker STreet 221b, and it still\\nwanted ten minutes to the hour 6-50pm when we found ourselves in SERPENtine\\nAvenue@mail.com.'"
     },
     "execution_count": 3,
     "metadata": {},
     "output_type": "execute_result"
    }
   ],
   "source": [
    "text_slice = text[:152]\n",
    "text_slice"
   ]
  },
  {
   "cell_type": "markdown",
   "id": "a94de208d79d481d",
   "metadata": {
    "collapsed": false
   },
   "source": [
    "## Довжина рядка"
   ]
  },
  {
   "cell_type": "code",
   "execution_count": 4,
   "id": "3c82016cc1f8ae80",
   "metadata": {
    "collapsed": false,
    "ExecuteTime": {
     "end_time": "2024-02-22T12:22:27.983644Z",
     "start_time": "2024-02-22T12:22:27.971491Z"
    }
   },
   "outputs": [
    {
     "data": {
      "text/plain": "152"
     },
     "execution_count": 4,
     "metadata": {},
     "output_type": "execute_result"
    }
   ],
   "source": [
    "len(text_slice)"
   ]
  },
  {
   "cell_type": "markdown",
   "id": "fbbed92fe4fec72c",
   "metadata": {
    "collapsed": false
   },
   "source": [
    "## Кількість символів '1' у рядку"
   ]
  },
  {
   "cell_type": "code",
   "execution_count": 5,
   "id": "f0545a3183a2745f",
   "metadata": {
    "collapsed": false,
    "ExecuteTime": {
     "end_time": "2024-02-22T12:22:27.984021Z",
     "start_time": "2024-02-22T12:22:27.975052Z"
    }
   },
   "outputs": [
    {
     "data": {
      "text/plain": "3"
     },
     "execution_count": 5,
     "metadata": {},
     "output_type": "execute_result"
    }
   ],
   "source": [
    "text_slice.count('1')"
   ]
  },
  {
   "cell_type": "markdown",
   "id": "d351c90f529b3c95",
   "metadata": {
    "collapsed": false
   },
   "source": [
    "## Індекс першого символа 'a' в рядку"
   ]
  },
  {
   "cell_type": "code",
   "execution_count": 6,
   "id": "5995b8115e6aa2a2",
   "metadata": {
    "collapsed": false,
    "ExecuteTime": {
     "end_time": "2024-02-22T12:22:28.055309Z",
     "start_time": "2024-02-22T12:22:27.977703Z"
    }
   },
   "outputs": [
    {
     "data": {
      "text/plain": "4"
     },
     "execution_count": 6,
     "metadata": {},
     "output_type": "execute_result"
    }
   ],
   "source": [
    "text_slice.find('a')"
   ]
  },
  {
   "cell_type": "markdown",
   "id": "220f98aa69b76444",
   "metadata": {
    "collapsed": false
   },
   "source": [
    "## Індекс, з якого починається підрядок when"
   ]
  },
  {
   "cell_type": "code",
   "execution_count": 7,
   "id": "45b45736c3a3ac68",
   "metadata": {
    "collapsed": false,
    "ExecuteTime": {
     "end_time": "2024-02-22T12:22:28.055966Z",
     "start_time": "2024-02-22T12:22:27.981135Z"
    }
   },
   "outputs": [
    {
     "data": {
      "text/plain": "15"
     },
     "execution_count": 7,
     "metadata": {},
     "output_type": "execute_result"
    }
   ],
   "source": [
    "text_slice.index('when')"
   ]
  },
  {
   "cell_type": "markdown",
   "id": "e704f9f9c03849e9",
   "metadata": {
    "collapsed": false
   },
   "source": [
    "## Весь рядок у верхньому регістрі"
   ]
  },
  {
   "cell_type": "code",
   "execution_count": 8,
   "id": "f727c39a4f3c456b",
   "metadata": {
    "collapsed": false,
    "ExecuteTime": {
     "end_time": "2024-02-22T12:22:28.058624Z",
     "start_time": "2024-02-22T12:22:27.984275Z"
    }
   },
   "outputs": [
    {
     "data": {
      "text/plain": "'IT WAS A 18:15 WHEN WE LEFT BAKER STREET 221B, AND IT STILL\\nWANTED TEN MINUTES TO THE HOUR 6-50PM WHEN WE FOUND OURSELVES IN SERPENTINE\\nAVENUE@MAIL.COM.'"
     },
     "execution_count": 8,
     "metadata": {},
     "output_type": "execute_result"
    }
   ],
   "source": [
    "text_slice.upper()"
   ]
  },
  {
   "cell_type": "markdown",
   "id": "bad8674dfccef121",
   "metadata": {
    "collapsed": false
   },
   "source": [
    "## Весь рядок у нижньому регістрі"
   ]
  },
  {
   "cell_type": "code",
   "execution_count": 9,
   "id": "b14eaf5845b2c093",
   "metadata": {
    "collapsed": false,
    "ExecuteTime": {
     "end_time": "2024-02-22T12:22:28.058997Z",
     "start_time": "2024-02-22T12:22:27.987012Z"
    }
   },
   "outputs": [
    {
     "data": {
      "text/plain": "'it was a 18:15 when we left baker street 221b, and it still\\nwanted ten minutes to the hour 6-50pm when we found ourselves in serpentine\\navenue@mail.com.'"
     },
     "execution_count": 9,
     "metadata": {},
     "output_type": "execute_result"
    }
   ],
   "source": [
    "text_slice.lower()"
   ]
  },
  {
   "cell_type": "markdown",
   "id": "3faa22b6bab18339",
   "metadata": {
    "collapsed": false
   },
   "source": [
    "## Весь рядок у тайтл кейсі (кожне слово з великої літери)"
   ]
  },
  {
   "cell_type": "code",
   "execution_count": 10,
   "id": "3efba59c95d6ad5",
   "metadata": {
    "collapsed": false,
    "ExecuteTime": {
     "end_time": "2024-02-22T12:22:28.059219Z",
     "start_time": "2024-02-22T12:22:27.990985Z"
    }
   },
   "outputs": [
    {
     "data": {
      "text/plain": "'It Was A 18:15 When We Left Baker Street 221B, And It Still\\nWanted Ten Minutes To The Hour 6-50Pm When We Found Ourselves In Serpentine\\nAvenue@Mail.Com.'"
     },
     "execution_count": 10,
     "metadata": {},
     "output_type": "execute_result"
    }
   ],
   "source": [
    "text_slice.title()"
   ]
  },
  {
   "cell_type": "markdown",
   "id": "7f0a1e35d11c8a75",
   "metadata": {
    "collapsed": false
   },
   "source": [
    "## Рядок, де перша літера велика, а решта рядку в нижньому регістрі"
   ]
  },
  {
   "cell_type": "code",
   "execution_count": 11,
   "id": "113f0a9970e266c0",
   "metadata": {
    "collapsed": false,
    "ExecuteTime": {
     "end_time": "2024-02-22T12:22:28.059435Z",
     "start_time": "2024-02-22T12:22:27.993257Z"
    }
   },
   "outputs": [
    {
     "data": {
      "text/plain": "'It was a 18:15 when we left baker street 221b, and it still\\nwanted ten minutes to the hour 6-50pm when we found ourselves in serpentine\\navenue@mail.com.'"
     },
     "execution_count": 11,
     "metadata": {},
     "output_type": "execute_result"
    }
   ],
   "source": [
    "text_slice.capitalize()"
   ]
  },
  {
   "cell_type": "markdown",
   "id": "a365044af185da84",
   "metadata": {
    "collapsed": false
   },
   "source": [
    "## Об'єднання усіх символів рядку, використовуючи двокрапку в якості роздільника"
   ]
  },
  {
   "cell_type": "code",
   "execution_count": 12,
   "id": "21b74b974e7a8f0",
   "metadata": {
    "collapsed": false,
    "ExecuteTime": {
     "end_time": "2024-02-22T12:22:28.059630Z",
     "start_time": "2024-02-22T12:22:27.995493Z"
    }
   },
   "outputs": [
    {
     "data": {
      "text/plain": "'I:t: :w:a:s: :a: :1:8:::1:5: :w:h:e:n: :w:e: :l:e:f:t: :B:a:k:e:r: :S:T:r:e:e:t: :2:2:1:b:,: :a:n:d: :i:t: :s:t:i:l:l:\\n:w:a:n:t:e:d: :t:e:n: :m:i:n:u:t:e:s: :t:o: :t:h:e: :h:o:u:r: :6:-:5:0:p:m: :w:h:e:n: :w:e: :f:o:u:n:d: :o:u:r:s:e:l:v:e:s: :i:n: :S:E:R:P:E:N:t:i:n:e:\\n:A:v:e:n:u:e:@:m:a:i:l:.:c:o:m:.'"
     },
     "execution_count": 12,
     "metadata": {},
     "output_type": "execute_result"
    }
   ],
   "source": [
    "':'.join(text_slice)"
   ]
  },
  {
   "cell_type": "markdown",
   "id": "d8057eb642ed1871",
   "metadata": {
    "collapsed": false
   },
   "source": [
    "## Перевірка чи містить рядок лише літери та цифри"
   ]
  },
  {
   "cell_type": "code",
   "execution_count": 13,
   "id": "5af2a1dc6f03f0dc",
   "metadata": {
    "collapsed": false,
    "ExecuteTime": {
     "end_time": "2024-02-22T12:22:28.059850Z",
     "start_time": "2024-02-22T12:22:27.997600Z"
    }
   },
   "outputs": [
    {
     "data": {
      "text/plain": "False"
     },
     "execution_count": 13,
     "metadata": {},
     "output_type": "execute_result"
    }
   ],
   "source": [
    "text_slice.isalnum()"
   ]
  },
  {
   "cell_type": "markdown",
   "id": "cc4df74f7cc46a2b",
   "metadata": {
    "collapsed": false
   },
   "source": [
    "## Перевірка чи містить рядок лише літери"
   ]
  },
  {
   "cell_type": "code",
   "execution_count": 14,
   "id": "fda4fdd0f79c7c72",
   "metadata": {
    "collapsed": false,
    "ExecuteTime": {
     "end_time": "2024-02-22T12:22:28.060031Z",
     "start_time": "2024-02-22T12:22:28.001296Z"
    }
   },
   "outputs": [
    {
     "data": {
      "text/plain": "False"
     },
     "execution_count": 14,
     "metadata": {},
     "output_type": "execute_result"
    }
   ],
   "source": [
    "text_slice.isalpha()"
   ]
  },
  {
   "cell_type": "markdown",
   "id": "4da1c7c7ef7f14e9",
   "metadata": {
    "collapsed": false
   },
   "source": [
    "## Перевірка чи містить рядок лише цифри"
   ]
  },
  {
   "cell_type": "code",
   "execution_count": 15,
   "id": "3e79f7b4a3926fd4",
   "metadata": {
    "collapsed": false,
    "ExecuteTime": {
     "end_time": "2024-02-22T12:22:28.065342Z",
     "start_time": "2024-02-22T12:22:28.003703Z"
    }
   },
   "outputs": [
    {
     "data": {
      "text/plain": "False"
     },
     "execution_count": 15,
     "metadata": {},
     "output_type": "execute_result"
    }
   ],
   "source": [
    "text_slice.isdigit()"
   ]
  },
  {
   "cell_type": "markdown",
   "id": "a462534aaa498f0c",
   "metadata": {
    "collapsed": false
   },
   "source": [
    "## Перевірка чи рядок у тайтл кейсі"
   ]
  },
  {
   "cell_type": "code",
   "execution_count": 16,
   "id": "3513a51b97feabf",
   "metadata": {
    "collapsed": false,
    "ExecuteTime": {
     "end_time": "2024-02-22T12:22:28.065623Z",
     "start_time": "2024-02-22T12:22:28.006520Z"
    }
   },
   "outputs": [
    {
     "data": {
      "text/plain": "False"
     },
     "execution_count": 16,
     "metadata": {},
     "output_type": "execute_result"
    }
   ],
   "source": [
    "text_slice.istitle()"
   ]
  },
  {
   "cell_type": "markdown",
   "id": "88fc57f0fa52f8f0",
   "metadata": {
    "collapsed": false
   },
   "source": [
    "## Перевірка чи містить рядок лише пробіли"
   ]
  },
  {
   "cell_type": "code",
   "execution_count": 17,
   "id": "532a5a505e357fb7",
   "metadata": {
    "collapsed": false,
    "ExecuteTime": {
     "end_time": "2024-02-22T12:22:28.066017Z",
     "start_time": "2024-02-22T12:22:28.011621Z"
    }
   },
   "outputs": [
    {
     "data": {
      "text/plain": "False"
     },
     "execution_count": 17,
     "metadata": {},
     "output_type": "execute_result"
    }
   ],
   "source": [
    "text_slice.isspace()"
   ]
  },
  {
   "cell_type": "markdown",
   "id": "17740b08fd2c5902",
   "metadata": {
    "collapsed": false
   },
   "source": [
    "## Перевірка чи закінчується рядок крапкою"
   ]
  },
  {
   "cell_type": "code",
   "execution_count": 18,
   "id": "b30c88a787b26bd",
   "metadata": {
    "collapsed": false,
    "ExecuteTime": {
     "end_time": "2024-02-22T12:22:28.066236Z",
     "start_time": "2024-02-22T12:22:28.014076Z"
    }
   },
   "outputs": [
    {
     "data": {
      "text/plain": "True"
     },
     "execution_count": 18,
     "metadata": {},
     "output_type": "execute_result"
    }
   ],
   "source": [
    "text_slice.endswith('.')"
   ]
  },
  {
   "cell_type": "markdown",
   "id": "7b3d5f69402744dd",
   "metadata": {
    "collapsed": false
   },
   "source": [
    "## Перевірка чи починається рядок з 'It'"
   ]
  },
  {
   "cell_type": "code",
   "execution_count": 19,
   "id": "f51d902e8575cabc",
   "metadata": {
    "collapsed": false,
    "ExecuteTime": {
     "end_time": "2024-02-22T12:22:28.066416Z",
     "start_time": "2024-02-22T12:22:28.016747Z"
    }
   },
   "outputs": [
    {
     "data": {
      "text/plain": "True"
     },
     "execution_count": 19,
     "metadata": {},
     "output_type": "execute_result"
    }
   ],
   "source": [
    "text_slice.startswith('It')"
   ]
  },
  {
   "cell_type": "markdown",
   "id": "ea907da11c1b2a4f",
   "metadata": {
    "collapsed": false
   },
   "source": [
    "## Заміна всіх рядків 'mail' на 'yahoo' у даному рядку"
   ]
  },
  {
   "cell_type": "code",
   "execution_count": 20,
   "id": "a9b1c9fb767047ee",
   "metadata": {
    "collapsed": false,
    "ExecuteTime": {
     "end_time": "2024-02-22T12:22:28.066603Z",
     "start_time": "2024-02-22T12:22:28.019896Z"
    }
   },
   "outputs": [
    {
     "data": {
      "text/plain": "'It was a 18:15 when we left Baker STreet 221b, and it still\\nwanted ten minutes to the hour 6-50pm when we found ourselves in SERPENtine\\nAvenue@yahoo.com.'"
     },
     "execution_count": 20,
     "metadata": {},
     "output_type": "execute_result"
    }
   ],
   "source": [
    "text_slice.replace('mail', 'yahoo')"
   ]
  },
  {
   "cell_type": "markdown",
   "id": "771173d3a1ca71ac",
   "metadata": {
    "collapsed": false
   },
   "source": [
    "## Розбиття рядку на символах \\n \\r \\t \\f та пробілах"
   ]
  },
  {
   "cell_type": "code",
   "execution_count": 21,
   "id": "d481e021dbe96331",
   "metadata": {
    "collapsed": false,
    "ExecuteTime": {
     "end_time": "2024-02-22T12:22:28.066797Z",
     "start_time": "2024-02-22T12:22:28.022441Z"
    }
   },
   "outputs": [
    {
     "data": {
      "text/plain": "['It',\n 'was',\n 'a',\n '18:15',\n 'when',\n 'we',\n 'left',\n 'Baker',\n 'STreet',\n '221b,',\n 'and',\n 'it',\n 'still',\n 'wanted',\n 'ten',\n 'minutes',\n 'to',\n 'the',\n 'hour',\n '6-50pm',\n 'when',\n 'we',\n 'found',\n 'ourselves',\n 'in',\n 'SERPENtine',\n 'Avenue@mail.com.']"
     },
     "execution_count": 21,
     "metadata": {},
     "output_type": "execute_result"
    }
   ],
   "source": [
    "text_slice.split()"
   ]
  },
  {
   "cell_type": "markdown",
   "id": "f679903ffefe5c7b",
   "metadata": {
    "collapsed": false
   },
   "source": [
    "## Створення регулярного виразу для пошуку усіх номерів телефону в тексті"
   ]
  },
  {
   "cell_type": "code",
   "execution_count": 22,
   "id": "d69a5daf99f63d14",
   "metadata": {
    "collapsed": false,
    "ExecuteTime": {
     "end_time": "2024-02-22T12:22:28.066974Z",
     "start_time": "2024-02-22T12:22:28.025564Z"
    }
   },
   "outputs": [
    {
     "data": {
      "text/plain": "['(343)-45-23', '456-45-34', '308-45-32-21']"
     },
     "execution_count": 22,
     "metadata": {},
     "output_type": "execute_result"
    }
   ],
   "source": [
    "phones_pattern = re.compile(r'(?:\\(\\d{3}\\)|\\d{3})-\\d{2}-\\d{2}(?:-\\d{2})?')\n",
    "phone_numbers = phones_pattern.findall(text)\n",
    "phone_numbers"
   ]
  },
  {
   "cell_type": "markdown",
   "id": "c69109e5ffec18f5",
   "metadata": {
    "collapsed": false
   },
   "source": [
    "## Заміна у тексті зірочками всіх цифр номерів телефонів, крім останньої"
   ]
  },
  {
   "cell_type": "code",
   "execution_count": 23,
   "id": "e41a985a4bfbd5b3",
   "metadata": {
    "collapsed": false,
    "ExecuteTime": {
     "end_time": "2024-02-22T12:22:28.067245Z",
     "start_time": "2024-02-22T12:22:28.028405Z"
    }
   },
   "outputs": [
    {
     "data": {
      "text/plain": "'It was a 18:15 when we left Baker STreet 221b, and it still\\nwanted ten minutes to the hour 6-50pm when we found ourselves in SERPENtine\\nAvenue@mail.com. It was already dusk,, and the lamps were just being lighted as\\nwe paced up and down in front of BrioNY Lodge, waiting for the coming\\nof its (***)-**-*3 occupant. The house 345-A was just such as I had pictured it from\\nSherlock  Holmes’s succinct description, but the locality appeared to\\nbe less private that I    expected ***-**-*4. On the contrary, for a small Street 23 \\nin a quiet neighborhood here1232@emm.uk, it was remarkably animated. There was a\\ngroup of   shabbily-dressed men smoking and laughing in a corner, a\\nscissors-grinder +***-**-**-*1 with his wheel, two guardsmen who were flirting with a\\nnurse-girl, and several well-dressed young men who were lounging up and\\ndown with cigars in their mouths j.watson@gmail.com!!!'"
     },
     "execution_count": 23,
     "metadata": {},
     "output_type": "execute_result"
    }
   ],
   "source": [
    "for number in phone_numbers:\n",
    "    masked_number = re.sub(r'\\d', '*', number[:-1]) + number[-1]\n",
    "    text = text.replace(number, masked_number)\n",
    "\n",
    "text"
   ]
  }
 ],
 "metadata": {
  "kernelspec": {
   "display_name": "Python 3 (ipykernel)",
   "language": "python",
   "name": "python3"
  },
  "language_info": {
   "codemirror_mode": {
    "name": "ipython",
    "version": 3
   },
   "file_extension": ".py",
   "mimetype": "text/x-python",
   "name": "python",
   "nbconvert_exporter": "python",
   "pygments_lexer": "ipython3",
   "version": "3.11.7"
  }
 },
 "nbformat": 4,
 "nbformat_minor": 5
}
