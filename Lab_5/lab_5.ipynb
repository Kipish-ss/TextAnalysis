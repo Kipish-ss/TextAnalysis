{
 "cells": [
  {
   "cell_type": "markdown",
   "id": "f16cdf4981300616",
   "metadata": {
    "collapsed": false
   },
   "source": [
    "1.Застосувати приховане семантичне індексування бібліотеки scikit-learn для моделювання тем. Вивести документи, що зробили найбільший вклад в теми. Вивести найбільш важливі теми для випадково обраних чотирьох документів.\n",
    "2. Використати текст austen-sense.txt з корпусу gutenberg бібліотеки nltk та вивести ключові біграми."
   ]
  },
  {
   "cell_type": "markdown",
   "id": "4ba54f6768545ea2",
   "metadata": {
    "collapsed": false
   },
   "source": [
    "## Завантаження файлу у датафрейм"
   ]
  },
  {
   "cell_type": "code",
   "execution_count": 1,
   "id": "cf1860d6acc203d0",
   "metadata": {
    "collapsed": false,
    "ExecuteTime": {
     "end_time": "2024-05-02T12:03:15.440391Z",
     "start_time": "2024-05-02T12:03:14.978595Z"
    }
   },
   "outputs": [
    {
     "data": {
      "text/plain": "      category filename                              title  \\\n0     business  001.txt  Ad sales boost Time Warner profit   \n1     business  002.txt   Dollar gains on Greenspan speech   \n2     business  003.txt  Yukos unit buyer faces loan claim   \n3     business  004.txt  High fuel prices hit BA's profits   \n4     business  005.txt  Pernod takeover talk lifts Domecq   \n...        ...      ...                                ...   \n2220      tech  397.txt   BT program to beat dialler scams   \n2221      tech  398.txt    Spam e-mails tempt net shoppers   \n2222      tech  399.txt            Be careful how you code   \n2223      tech  400.txt    US cyber security chief resigns   \n2224      tech  401.txt   Losing yourself in online gaming   \n\n                                                content  \n0      Quarterly profits at US media giant TimeWarne...  \n1      The dollar has hit its highest level against ...  \n2      The owners of embattled Russian oil giant Yuk...  \n3      British Airways has blamed high fuel prices f...  \n4      Shares in UK drinks and food firm Allied Dome...  \n...                                                 ...  \n2220   BT is introducing two initiatives to help bea...  \n2221   Computer users across the world continue to i...  \n2222   A new European directive could put software w...  \n2223   The man making sure US computer networks are ...  \n2224   Online role playing games are time-consuming,...  \n\n[2225 rows x 4 columns]",
      "text/html": "<div>\n<style scoped>\n    .dataframe tbody tr th:only-of-type {\n        vertical-align: middle;\n    }\n\n    .dataframe tbody tr th {\n        vertical-align: top;\n    }\n\n    .dataframe thead th {\n        text-align: right;\n    }\n</style>\n<table border=\"1\" class=\"dataframe\">\n  <thead>\n    <tr style=\"text-align: right;\">\n      <th></th>\n      <th>category</th>\n      <th>filename</th>\n      <th>title</th>\n      <th>content</th>\n    </tr>\n  </thead>\n  <tbody>\n    <tr>\n      <th>0</th>\n      <td>business</td>\n      <td>001.txt</td>\n      <td>Ad sales boost Time Warner profit</td>\n      <td>Quarterly profits at US media giant TimeWarne...</td>\n    </tr>\n    <tr>\n      <th>1</th>\n      <td>business</td>\n      <td>002.txt</td>\n      <td>Dollar gains on Greenspan speech</td>\n      <td>The dollar has hit its highest level against ...</td>\n    </tr>\n    <tr>\n      <th>2</th>\n      <td>business</td>\n      <td>003.txt</td>\n      <td>Yukos unit buyer faces loan claim</td>\n      <td>The owners of embattled Russian oil giant Yuk...</td>\n    </tr>\n    <tr>\n      <th>3</th>\n      <td>business</td>\n      <td>004.txt</td>\n      <td>High fuel prices hit BA's profits</td>\n      <td>British Airways has blamed high fuel prices f...</td>\n    </tr>\n    <tr>\n      <th>4</th>\n      <td>business</td>\n      <td>005.txt</td>\n      <td>Pernod takeover talk lifts Domecq</td>\n      <td>Shares in UK drinks and food firm Allied Dome...</td>\n    </tr>\n    <tr>\n      <th>...</th>\n      <td>...</td>\n      <td>...</td>\n      <td>...</td>\n      <td>...</td>\n    </tr>\n    <tr>\n      <th>2220</th>\n      <td>tech</td>\n      <td>397.txt</td>\n      <td>BT program to beat dialler scams</td>\n      <td>BT is introducing two initiatives to help bea...</td>\n    </tr>\n    <tr>\n      <th>2221</th>\n      <td>tech</td>\n      <td>398.txt</td>\n      <td>Spam e-mails tempt net shoppers</td>\n      <td>Computer users across the world continue to i...</td>\n    </tr>\n    <tr>\n      <th>2222</th>\n      <td>tech</td>\n      <td>399.txt</td>\n      <td>Be careful how you code</td>\n      <td>A new European directive could put software w...</td>\n    </tr>\n    <tr>\n      <th>2223</th>\n      <td>tech</td>\n      <td>400.txt</td>\n      <td>US cyber security chief resigns</td>\n      <td>The man making sure US computer networks are ...</td>\n    </tr>\n    <tr>\n      <th>2224</th>\n      <td>tech</td>\n      <td>401.txt</td>\n      <td>Losing yourself in online gaming</td>\n      <td>Online role playing games are time-consuming,...</td>\n    </tr>\n  </tbody>\n</table>\n<p>2225 rows × 4 columns</p>\n</div>"
     },
     "execution_count": 1,
     "metadata": {},
     "output_type": "execute_result"
    }
   ],
   "source": [
    "import pandas as pd\n",
    "\n",
    "bbc_corpus = pd.read_csv('bbc-news-data.csv', sep='\\t')\n",
    "bbc_corpus"
   ]
  },
  {
   "cell_type": "markdown",
   "id": "107224f07e6b9849",
   "metadata": {
    "collapsed": false
   },
   "source": [
    "## Попередня обробка корпусу"
   ]
  },
  {
   "cell_type": "code",
   "execution_count": 2,
   "id": "168517af1d2d8541",
   "metadata": {
    "collapsed": false,
    "ExecuteTime": {
     "end_time": "2024-05-02T12:03:16.403944Z",
     "start_time": "2024-05-02T12:03:15.436314Z"
    }
   },
   "outputs": [],
   "source": [
    "from nltk.tokenize import WordPunctTokenizer\n",
    "from nltk.corpus import stopwords\n",
    "import re\n",
    "\n",
    "stop_words = set(stopwords.words('english'))\n",
    "tokenizer = WordPunctTokenizer()\n",
    "\n",
    "\n",
    "def preprocess_document(doc):\n",
    "    doc = re.sub(r'[^a-zA-Z\\s]', '', doc, re.I | re.A)\n",
    "    doc = doc.lower()\n",
    "    doc = doc.strip()\n",
    "    tokens = tokenizer.tokenize(doc)\n",
    "    filtered_tokens = [token for token in tokens if token not in stop_words and len(token) > 2]\n",
    "    doc = ' '.join(filtered_tokens)\n",
    "    return doc"
   ]
  },
  {
   "cell_type": "code",
   "execution_count": 3,
   "id": "f0ecd6a26881af43",
   "metadata": {
    "collapsed": false,
    "ExecuteTime": {
     "end_time": "2024-05-02T12:03:16.613401Z",
     "start_time": "2024-05-02T12:03:16.404591Z"
    }
   },
   "outputs": [
    {
     "data": {
      "text/plain": "0    quarterly profits media giant timewarner jumpe...\n1    dollar hit highest level euro almost three mon...\n2    owners embattled russian oil giant yukos ask b...\n3    british airways blamed high fuel prices drop p...\n4    shares drinks food firm allied domecq risen sp...\nName: content, dtype: object"
     },
     "execution_count": 3,
     "metadata": {},
     "output_type": "execute_result"
    }
   ],
   "source": [
    "bbc_corpus['content'] = bbc_corpus['content'].apply(preprocess_document)\n",
    "bbc_corpus['content'].head()"
   ]
  },
  {
   "cell_type": "markdown",
   "id": "3a2bfd01597f7455",
   "metadata": {
    "collapsed": false
   },
   "source": [
    "## Використання моделі TF-IDF та застосування прихованого семантичного індексування"
   ]
  },
  {
   "cell_type": "code",
   "execution_count": 4,
   "id": "74274fed8a1bfa67",
   "metadata": {
    "collapsed": false,
    "ExecuteTime": {
     "end_time": "2024-05-02T12:03:17.097003Z",
     "start_time": "2024-05-02T12:03:16.615556Z"
    }
   },
   "outputs": [],
   "source": [
    "from sklearn.feature_extraction.text import TfidfVectorizer\n",
    "import numpy as np\n",
    "\n",
    "cv = TfidfVectorizer(min_df=10, max_df=0.8, ngram_range=(1, 2))\n",
    "cv_features = cv.fit_transform(bbc_corpus['content'])\n",
    "vocabulary = np.array(cv.get_feature_names_out())"
   ]
  },
  {
   "cell_type": "code",
   "execution_count": 5,
   "id": "f121b3bdb5d020d0",
   "metadata": {
    "collapsed": false,
    "ExecuteTime": {
     "end_time": "2024-05-02T12:03:17.296837Z",
     "start_time": "2024-05-02T12:03:17.097882Z"
    }
   },
   "outputs": [
    {
     "data": {
      "text/plain": "array([[ 0.18218142,  0.02098702, -0.17026098, ...,  0.02469057,\n        -0.0096781 , -0.02168635],\n       [ 0.19756368,  0.0714441 , -0.07970341, ..., -0.05810203,\n        -0.03624525,  0.05365706],\n       [ 0.11370094,  0.05905951, -0.05382132, ...,  0.31311135,\n         0.01192182, -0.02488919],\n       ...,\n       [ 0.2504809 ,  0.06220223, -0.06432383, ...,  0.12926598,\n        -0.0288901 ,  0.15075599],\n       [ 0.15074839,  0.02666993, -0.07701499, ...,  0.05068757,\n        -0.04511466,  0.15102995],\n       [ 0.36115399, -0.13225848,  0.00265985, ..., -0.05134182,\n         0.01199036, -0.09185554]])"
     },
     "execution_count": 5,
     "metadata": {},
     "output_type": "execute_result"
    }
   ],
   "source": [
    "from sklearn.decomposition import TruncatedSVD\n",
    "\n",
    "n_topics = 8\n",
    "lsi_model = TruncatedSVD(n_components=n_topics, random_state=1234)\n",
    "document_topics = lsi_model.fit_transform(cv_features)\n",
    "document_topics"
   ]
  },
  {
   "cell_type": "markdown",
   "id": "cda23e236213a2e3",
   "metadata": {
    "collapsed": false
   },
   "source": [
    "## Документи, що зробили найбільший вклад у теми"
   ]
  },
  {
   "cell_type": "code",
   "execution_count": 6,
   "id": "7464a448027ef7ca",
   "metadata": {
    "collapsed": false,
    "ExecuteTime": {
     "end_time": "2024-05-02T12:03:17.313841Z",
     "start_time": "2024-05-02T12:03:17.295639Z"
    }
   },
   "outputs": [
    {
     "data": {
      "text/plain": "                                                document  contribution\ntopic                                                                 \n0      lord chancellor defended government plans intr...      0.094505\n0      online role playing games timeconsuming enthra...      0.093240\n0      new bigscreen version magic roundabout release...      0.086246\n0      general election best chance pressure groups g...      0.084404\n0      called masochism strategy runup iraq war tony ...      0.080968\n1      tony blair said voters wait labours manifesto ...      0.186577\n1      tony blair launched attack conservative spendi...      0.184959\n1      michael howard finally revealed full scale pla...      0.182582\n1      tony blairs feud gordon brown damaging way gov...      0.176457\n1      tony blair sought reassure labour backbenchers...      0.173624\n2      tony blair sought reassure labour backbenchers...      0.179365\n2      tony blair lied took war qualms lying election...      0.170917\n2      tony blair lied took war qualms lying election...      0.170917\n2      tony blair faces first prime ministers questio...      0.170484\n2      labour mps angrily criticised tony blair gordo...      0.167476\n3      road trip comedy sideways praise heaped two cr...      0.338676\n3      aviator named best film golden globe awards st...      0.315329\n3      quirky comedy sideways named best film year lo...      0.310223\n3      hollywood blockbuster aviator lowbudget britis...      0.294415\n3      comedy sideways dominated years independent sp...      0.289600\n4      australia raising benchmark interest rate high...      0.211407\n4      interest rates rise fourth time five months wi...      0.206031\n4      german business confidence fell february knock...      0.194184\n4      economic growth accelerated third quarter help...      0.193953\n4      ten years golden economic performance may come...      0.193165\n5      russian oil firm yukos lied court attempt stop...      0.346283\n5      russian oil firm yukos sued four companies rol...      0.343098\n5      yukos said bankruptcy court decide whether blo...      0.340293\n5      russian oil gas company yukos due court thursd...      0.336942\n5      russian authorities abide court decisions take...      0.329271\n6      double olympic champion kelly holmes back best...      0.353821\n6      british number one tim henman face frances cyr...      0.297200\n6      last year seen one player dominate mens tennis...      0.285558\n6      athletics fans endured year mixed emotions stu...      0.281246\n6      britains jason gardener enjoyed double success...      0.268775\n7      microsoft releasing tools clean pcs harbouring...      0.244794\n7      microsoft releasing tools clean pcs harbouring...      0.244794\n7      microsoft investigating trojan program attempt...      0.224174\n7      microsoft investigating trojan program attempt...      0.224174\n7      microsoft says clamping people running pirated...      0.219533",
      "text/html": "<div>\n<style scoped>\n    .dataframe tbody tr th:only-of-type {\n        vertical-align: middle;\n    }\n\n    .dataframe tbody tr th {\n        vertical-align: top;\n    }\n\n    .dataframe thead th {\n        text-align: right;\n    }\n</style>\n<table border=\"1\" class=\"dataframe\">\n  <thead>\n    <tr style=\"text-align: right;\">\n      <th></th>\n      <th>document</th>\n      <th>contribution</th>\n    </tr>\n    <tr>\n      <th>topic</th>\n      <th></th>\n      <th></th>\n    </tr>\n  </thead>\n  <tbody>\n    <tr>\n      <th>0</th>\n      <td>lord chancellor defended government plans intr...</td>\n      <td>0.094505</td>\n    </tr>\n    <tr>\n      <th>0</th>\n      <td>online role playing games timeconsuming enthra...</td>\n      <td>0.093240</td>\n    </tr>\n    <tr>\n      <th>0</th>\n      <td>new bigscreen version magic roundabout release...</td>\n      <td>0.086246</td>\n    </tr>\n    <tr>\n      <th>0</th>\n      <td>general election best chance pressure groups g...</td>\n      <td>0.084404</td>\n    </tr>\n    <tr>\n      <th>0</th>\n      <td>called masochism strategy runup iraq war tony ...</td>\n      <td>0.080968</td>\n    </tr>\n    <tr>\n      <th>1</th>\n      <td>tony blair said voters wait labours manifesto ...</td>\n      <td>0.186577</td>\n    </tr>\n    <tr>\n      <th>1</th>\n      <td>tony blair launched attack conservative spendi...</td>\n      <td>0.184959</td>\n    </tr>\n    <tr>\n      <th>1</th>\n      <td>michael howard finally revealed full scale pla...</td>\n      <td>0.182582</td>\n    </tr>\n    <tr>\n      <th>1</th>\n      <td>tony blairs feud gordon brown damaging way gov...</td>\n      <td>0.176457</td>\n    </tr>\n    <tr>\n      <th>1</th>\n      <td>tony blair sought reassure labour backbenchers...</td>\n      <td>0.173624</td>\n    </tr>\n    <tr>\n      <th>2</th>\n      <td>tony blair sought reassure labour backbenchers...</td>\n      <td>0.179365</td>\n    </tr>\n    <tr>\n      <th>2</th>\n      <td>tony blair lied took war qualms lying election...</td>\n      <td>0.170917</td>\n    </tr>\n    <tr>\n      <th>2</th>\n      <td>tony blair lied took war qualms lying election...</td>\n      <td>0.170917</td>\n    </tr>\n    <tr>\n      <th>2</th>\n      <td>tony blair faces first prime ministers questio...</td>\n      <td>0.170484</td>\n    </tr>\n    <tr>\n      <th>2</th>\n      <td>labour mps angrily criticised tony blair gordo...</td>\n      <td>0.167476</td>\n    </tr>\n    <tr>\n      <th>3</th>\n      <td>road trip comedy sideways praise heaped two cr...</td>\n      <td>0.338676</td>\n    </tr>\n    <tr>\n      <th>3</th>\n      <td>aviator named best film golden globe awards st...</td>\n      <td>0.315329</td>\n    </tr>\n    <tr>\n      <th>3</th>\n      <td>quirky comedy sideways named best film year lo...</td>\n      <td>0.310223</td>\n    </tr>\n    <tr>\n      <th>3</th>\n      <td>hollywood blockbuster aviator lowbudget britis...</td>\n      <td>0.294415</td>\n    </tr>\n    <tr>\n      <th>3</th>\n      <td>comedy sideways dominated years independent sp...</td>\n      <td>0.289600</td>\n    </tr>\n    <tr>\n      <th>4</th>\n      <td>australia raising benchmark interest rate high...</td>\n      <td>0.211407</td>\n    </tr>\n    <tr>\n      <th>4</th>\n      <td>interest rates rise fourth time five months wi...</td>\n      <td>0.206031</td>\n    </tr>\n    <tr>\n      <th>4</th>\n      <td>german business confidence fell february knock...</td>\n      <td>0.194184</td>\n    </tr>\n    <tr>\n      <th>4</th>\n      <td>economic growth accelerated third quarter help...</td>\n      <td>0.193953</td>\n    </tr>\n    <tr>\n      <th>4</th>\n      <td>ten years golden economic performance may come...</td>\n      <td>0.193165</td>\n    </tr>\n    <tr>\n      <th>5</th>\n      <td>russian oil firm yukos lied court attempt stop...</td>\n      <td>0.346283</td>\n    </tr>\n    <tr>\n      <th>5</th>\n      <td>russian oil firm yukos sued four companies rol...</td>\n      <td>0.343098</td>\n    </tr>\n    <tr>\n      <th>5</th>\n      <td>yukos said bankruptcy court decide whether blo...</td>\n      <td>0.340293</td>\n    </tr>\n    <tr>\n      <th>5</th>\n      <td>russian oil gas company yukos due court thursd...</td>\n      <td>0.336942</td>\n    </tr>\n    <tr>\n      <th>5</th>\n      <td>russian authorities abide court decisions take...</td>\n      <td>0.329271</td>\n    </tr>\n    <tr>\n      <th>6</th>\n      <td>double olympic champion kelly holmes back best...</td>\n      <td>0.353821</td>\n    </tr>\n    <tr>\n      <th>6</th>\n      <td>british number one tim henman face frances cyr...</td>\n      <td>0.297200</td>\n    </tr>\n    <tr>\n      <th>6</th>\n      <td>last year seen one player dominate mens tennis...</td>\n      <td>0.285558</td>\n    </tr>\n    <tr>\n      <th>6</th>\n      <td>athletics fans endured year mixed emotions stu...</td>\n      <td>0.281246</td>\n    </tr>\n    <tr>\n      <th>6</th>\n      <td>britains jason gardener enjoyed double success...</td>\n      <td>0.268775</td>\n    </tr>\n    <tr>\n      <th>7</th>\n      <td>microsoft releasing tools clean pcs harbouring...</td>\n      <td>0.244794</td>\n    </tr>\n    <tr>\n      <th>7</th>\n      <td>microsoft releasing tools clean pcs harbouring...</td>\n      <td>0.244794</td>\n    </tr>\n    <tr>\n      <th>7</th>\n      <td>microsoft investigating trojan program attempt...</td>\n      <td>0.224174</td>\n    </tr>\n    <tr>\n      <th>7</th>\n      <td>microsoft investigating trojan program attempt...</td>\n      <td>0.224174</td>\n    </tr>\n    <tr>\n      <th>7</th>\n      <td>microsoft says clamping people running pirated...</td>\n      <td>0.219533</td>\n    </tr>\n  </tbody>\n</table>\n</div>"
     },
     "execution_count": 6,
     "metadata": {},
     "output_type": "execute_result"
    }
   ],
   "source": [
    "top_n = 5\n",
    "\n",
    "top_documents_per_topic = {'document': [], 'contribution': [], 'topic': []}\n",
    "\n",
    "for topic_idx in range(document_topics.shape[1]):\n",
    "    contributions = np.abs(document_topics[:, topic_idx])\n",
    "    total_contribution = contributions.sum()\n",
    "    top_documents_indices = np.argsort(contributions)[::-1][:top_n]\n",
    "    top_contributions = (contributions[top_documents_indices] / total_contribution) * 100\n",
    "\n",
    "    top_documents_per_topic['topic'].extend([topic_idx] * top_n)\n",
    "    top_docs = bbc_corpus['content'][top_documents_indices]\n",
    "    top_documents_per_topic['document'].extend(top_docs)\n",
    "    top_documents_per_topic['contribution'].extend(top_contributions)\n",
    "\n",
    "top_documents_per_topic = pd.DataFrame(top_documents_per_topic)\n",
    "top_documents_per_topic.set_index('topic')"
   ]
  },
  {
   "cell_type": "markdown",
   "id": "7a9326a4d2a592e",
   "metadata": {
    "collapsed": false
   },
   "source": [
    "## Найбільш важливі теми для випадково обраних чотирьох документів"
   ]
  },
  {
   "cell_type": "code",
   "execution_count": 7,
   "id": "8c5ba357f512c2f0",
   "metadata": {
    "collapsed": false,
    "ExecuteTime": {
     "end_time": "2024-05-02T12:03:17.352862Z",
     "start_time": "2024-05-02T12:03:17.318657Z"
    }
   },
   "outputs": [
    {
     "data": {
      "text/plain": "                                                    Top-1  Top-2  Top-3  \\\ncontent                                                                   \nbritish producers wife swap taking legal action...      0      3      5   \npensioners promised energy savings liberal demo...      0      1      4   \nchina overtook become japans biggest trading pa...      4      0      2   \ndavid mcletchie resigned post partner legal fir...      0      1      2   \n\n                                                    Top-4  Top-5  \ncontent                                                           \nbritish producers wife swap taking legal action...      2      6  \npensioners promised energy savings liberal demo...      2      3  \nchina overtook become japans biggest trading pa...      5      3  \ndavid mcletchie resigned post partner legal fir...      5      7  ",
      "text/html": "<div>\n<style scoped>\n    .dataframe tbody tr th:only-of-type {\n        vertical-align: middle;\n    }\n\n    .dataframe tbody tr th {\n        vertical-align: top;\n    }\n\n    .dataframe thead th {\n        text-align: right;\n    }\n</style>\n<table border=\"1\" class=\"dataframe\">\n  <thead>\n    <tr style=\"text-align: right;\">\n      <th></th>\n      <th>Top-1</th>\n      <th>Top-2</th>\n      <th>Top-3</th>\n      <th>Top-4</th>\n      <th>Top-5</th>\n    </tr>\n    <tr>\n      <th>content</th>\n      <th></th>\n      <th></th>\n      <th></th>\n      <th></th>\n      <th></th>\n    </tr>\n  </thead>\n  <tbody>\n    <tr>\n      <th>british producers wife swap taking legal action show claim blatant wholescale copycat programme rdf media makes show network abc filed damages claim million million foxs trading spouses abc bought rights british show first aired became hit channel network part claim supported rdfs action respect producing partners right protect intellectual property whatever manner deem appropriate said abc statement spokesman fox said seen details legal action could comment show first screened june criticised press similarities wife swap abc originally planned call programme trading moms changed avoid confusion fox version earlier year nbc network claimed foxs boxing show next great champ hurriedly produced ensure programme first screened nbc alleged boxing regulations violated failed attempt show pulled fox show proved ratings flop nbcs contender due begin february</th>\n      <td>0</td>\n      <td>3</td>\n      <td>5</td>\n      <td>2</td>\n      <td>6</td>\n    </tr>\n    <tr>\n      <th>pensioners promised energy savings liberal democrats snow cold temperatures continue party says plans could save average pensioner every year cut winter deaths government gives winter fuel households people people tories promise keep payments lib dems would allow people swap winter fuel payments discounts home insulation shadow local government secretary davey said current scheme helped older people new liberal democrat approach much end scandal tens thousands old people dying winter cold every year vouchers designed let pensioners choose list approved energy supplies would compete business offering discounts home insulation schemes plan would boost energy conservation says party insulation could save every year pensioner households using money intelligently present</th>\n      <td>0</td>\n      <td>1</td>\n      <td>4</td>\n      <td>2</td>\n      <td>3</td>\n    </tr>\n    <tr>\n      <th>china overtook become japans biggest trading partner according numbers released japans finance ministry wednesday china accounted japans trade compared ahead china came second change highlights chinas growing importance economic powerhouse japans imports exports china hong kong added yen bnbn highest figure japanese trade china since records began compares yen trade trade hurt oneoff factors including month ban beef imports following discovery cow infected mad cow disease bse however economists predict china become even important japanese trading partner coming years tuesday figures showed chinas economy grew experts say overall growth picture remains strong analysts see two spurs future growth chinas membership world trade organisation lower trade tariffs japans trade surplus grew trillion yen half surplus trillion yen accounted trade december surplus grew year ago trillion yen thanks strongerthanexpected exports</th>\n      <td>4</td>\n      <td>0</td>\n      <td>2</td>\n      <td>5</td>\n      <td>3</td>\n    </tr>\n    <tr>\n      <th>david mcletchie resigned post partner legal firm following criticism dual role scottish conservative leader insisted legal work tods murray influence causes supports friday said tendered resignation partner immediate effect mcletchie received advice holyrood officials details needed declare labour said cleverly asked paid advocacy tory spokesman totally refuted wrongdoing mcletchie received advice clerk standards committee concern signing parliamentary motion questioning expansion plans edinburgh airport msp partner tods murray client opposing development mcletchie complaint made concerns raised sought guidance standards committee clarify position advised exercise judgement avoid perception conflict said done nothing wrong explaining reason quitting post mcletchie said greatly concerned recent publicity surrounding association tods murray however wish see similar situation arise avoid misconceptions future mindful good name tods murray confidentiality clients entitled brought forward date retirement firm would otherwise happened later year proud part tods murray last years wish well future labour msp christine may said mcletchie clever ask clerk consider conduct respect section code almost bound get answer wanted enquiry since stands accused breaching section section paid advocacy said section members interest order legally obliges msps declare registrable interests taking part related parliamentary proceedings interest would prejudice give appearance prejudicing ability participate disinterested manner however msps code conduct recognises wider definition parliamentary proceedings including nonstatutory requirement make declaration relation written notices motions letter holyroods chamber office chief ken hughes also made clear mcletchie need list clients worked solicitor commenting mcletchies decision stand scottish labour party spokesman said mean mcletchie doesnt breach paid advocacy rules future however doesnt change fact full investigation whether done past scottish national party holyrood leader nicola sturgeon accused mcletchie failing properly serve constituents sturgeon said think whole episode damaging mcletchie sure reflecting added thought tories irrelevant party would lose sleep peter misselbrook executive partner tods murray said mcletchie considering retirement later year added david decided announcement made fully understand appreciate reasons</th>\n      <td>0</td>\n      <td>1</td>\n      <td>2</td>\n      <td>5</td>\n      <td>7</td>\n    </tr>\n  </tbody>\n</table>\n</div>"
     },
     "execution_count": 7,
     "metadata": {},
     "output_type": "execute_result"
    }
   ],
   "source": [
    "top_topics = 5\n",
    "documents_indices = np.random.choice(document_topics.shape[0], size=4, replace=False)\n",
    "random_documents = document_topics[documents_indices]\n",
    "most_important_topics = np.argsort(np.abs(random_documents), axis=1)[:, ::-1][:, :top_topics]\n",
    "most_important_topics = pd.DataFrame(most_important_topics, index=[bbc_corpus['content'][documents_indices]],\n",
    "                                     columns=[f'Top-{i + 1}' for i in range(top_topics)])\n",
    "most_important_topics"
   ]
  },
  {
   "cell_type": "markdown",
   "id": "746d218145b33b27",
   "metadata": {
    "collapsed": false
   },
   "source": [
    "## Терми, що ідендифікують теми"
   ]
  },
  {
   "cell_type": "code",
   "execution_count": 8,
   "id": "7522c35d21d933a3",
   "metadata": {
    "collapsed": false,
    "ExecuteTime": {
     "end_time": "2024-05-02T12:03:17.421837Z",
     "start_time": "2024-05-02T12:03:17.333709Z"
    }
   },
   "outputs": [
    {
     "data": {
      "text/plain": "array([['would', 'people', 'new', 'also', 'year'],\n       ['labour', 'election', 'film', 'blair', 'best'],\n       ['labour', 'election', 'blair', 'mobile', 'music'],\n       ['film', 'best', 'awards', 'award', 'films'],\n       ['people', 'growth', 'mobile', 'economy', 'users'],\n       ['yukos', 'economy', 'growth', 'court', 'mobile'],\n       ['film', 'england', 'champion', 'wales', 'seed'],\n       ['software', 'music', 'club', 'users', 'security']], dtype=object)"
     },
     "execution_count": 8,
     "metadata": {},
     "output_type": "execute_result"
    }
   ],
   "source": [
    "terms_topics = np.argsort(np.abs(lsi_model.components_), axis=1)[:, ::-1][:, :5]\n",
    "vocabulary[terms_topics]"
   ]
  },
  {
   "cell_type": "markdown",
   "id": "36c90e4db582dab4",
   "metadata": {
    "collapsed": false
   },
   "source": [
    "## Завантаження корпусу austen-sense та його попередня обробка"
   ]
  },
  {
   "cell_type": "code",
   "execution_count": 9,
   "id": "95c68ad8e3f869c5",
   "metadata": {
    "collapsed": false,
    "ExecuteTime": {
     "end_time": "2024-05-02T12:03:17.457372Z",
     "start_time": "2024-05-02T12:03:17.349366Z"
    }
   },
   "outputs": [],
   "source": [
    "from nltk.corpus import gutenberg\n",
    "\n",
    "sense_corpus = gutenberg.sents('austen-sense.txt')"
   ]
  },
  {
   "cell_type": "code",
   "execution_count": 10,
   "id": "24039812458f6cc2",
   "metadata": {
    "collapsed": false,
    "ExecuteTime": {
     "end_time": "2024-05-02T12:03:17.457688Z",
     "start_time": "2024-05-02T12:03:17.357286Z"
    }
   },
   "outputs": [],
   "source": [
    "def preprocess_sentence(sentence):\n",
    "    doc = ' '.join(sentence)\n",
    "    doc = re.sub(r'[^a-zA-Z\\s]', '', doc, re.I | re.A)\n",
    "    doc = doc.lower()\n",
    "    doc = doc.strip()\n",
    "    tokens = tokenizer.tokenize(doc)\n",
    "    filtered_tokens = [token for token in tokens if token not in stop_words and len(token) > 2]\n",
    "    return filtered_tokens"
   ]
  },
  {
   "cell_type": "code",
   "execution_count": 11,
   "id": "50b7e4acdd56d744",
   "metadata": {
    "collapsed": false,
    "ExecuteTime": {
     "end_time": "2024-05-02T12:03:17.558327Z",
     "start_time": "2024-05-02T12:03:17.363794Z"
    }
   },
   "outputs": [
    {
     "name": "stdout",
     "output_type": "stream",
     "text": [
      "[['sense', 'sensibility', 'jane', 'austen'], ['chapter'], ['family', 'dashwood', 'long', 'settled', 'sussex'], ['estate', 'large', 'residence', 'norland', 'park', 'centre', 'property', 'many', 'generations', 'lived', 'respectable', 'manner', 'engage', 'general', 'good', 'opinion', 'surrounding', 'acquaintance'], ['late', 'owner', 'estate', 'single', 'man', 'lived', 'advanced', 'age', 'many', 'years', 'life', 'constant', 'companion', 'housekeeper', 'sister']]\n"
     ]
    }
   ],
   "source": [
    "sense_corpus = [preprocess_sentence(sentence) for sentence in sense_corpus]\n",
    "print(sense_corpus[:5])"
   ]
  },
  {
   "cell_type": "markdown",
   "id": "79699856cbdc5ff4",
   "metadata": {
    "collapsed": false
   },
   "source": [
    "## Топ-5 ключових біграм"
   ]
  },
  {
   "cell_type": "code",
   "execution_count": 12,
   "id": "2df161535a3ff8a3",
   "metadata": {
    "collapsed": false,
    "ExecuteTime": {
     "end_time": "2024-05-02T12:03:17.610007Z",
     "start_time": "2024-05-02T12:03:17.588792Z"
    }
   },
   "outputs": [
    {
     "data": {
      "text/plain": "[('piano', 'forte'),\n ('bartlett', 'buildings'),\n ('combe', 'magna'),\n ('lock', 'hair'),\n ('burst', 'forth')]"
     },
     "execution_count": 12,
     "metadata": {},
     "output_type": "execute_result"
    }
   ],
   "source": [
    "from nltk.collocations import BigramCollocationFinder, BigramAssocMeasures\n",
    "\n",
    "bigram_measures = BigramAssocMeasures()\n",
    "finder = BigramCollocationFinder.from_documents(sense_corpus)\n",
    "finder.apply_freq_filter(5)\n",
    "finder.nbest(bigram_measures.pmi, 5)"
   ]
  },
  {
   "cell_type": "code",
   "execution_count": 12,
   "id": "d238e84069c63d3b",
   "metadata": {
    "collapsed": false,
    "ExecuteTime": {
     "end_time": "2024-05-02T12:03:17.610314Z",
     "start_time": "2024-05-02T12:03:17.590963Z"
    }
   },
   "outputs": [],
   "source": []
  }
 ],
 "metadata": {
  "kernelspec": {
   "display_name": "Python 3 (ipykernel)",
   "language": "python",
   "name": "python3"
  },
  "language_info": {
   "codemirror_mode": {
    "name": "ipython",
    "version": 3
   },
   "file_extension": ".py",
   "mimetype": "text/x-python",
   "name": "python",
   "nbconvert_exporter": "python",
   "pygments_lexer": "ipython3",
   "version": "3.11.7"
  }
 },
 "nbformat": 4,
 "nbformat_minor": 5
}
