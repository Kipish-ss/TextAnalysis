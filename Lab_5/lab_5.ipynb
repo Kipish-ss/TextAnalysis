{
 "cells": [
  {
   "cell_type": "markdown",
   "source": [
    "1.Застосувати приховане семантичне індексування бібліотеки scikit-learn для моделювання тем. Вивести документи, що зробили найбільший вклад в теми. Вивести найбільш важливі теми для випадково обраних чотирьох документів.\n",
    "2. Використати текст austen-sense.txt з корпусу gutenberg бібліотеки nltk та вивести ключові біграми."
   ],
   "metadata": {
    "collapsed": false
   },
   "id": "f16cdf4981300616"
  },
  {
   "cell_type": "code",
   "execution_count": 78,
   "outputs": [],
   "source": [
    "from nltk.corpus import gutenberg\n",
    "\n",
    "sense_corpus = gutenberg.sents('austen-sense.txt')"
   ],
   "metadata": {
    "collapsed": false,
    "ExecuteTime": {
     "end_time": "2024-04-18T20:46:25.382872Z",
     "start_time": "2024-04-18T20:46:25.374575Z"
    }
   },
   "id": "cf1860d6acc203d0"
  },
  {
   "cell_type": "code",
   "execution_count": 79,
   "outputs": [],
   "source": [
    "from nltk.tokenize import WordPunctTokenizer\n",
    "from nltk.corpus import stopwords\n",
    "import re\n",
    "\n",
    "stop_words = stopwords.words('english')\n",
    "tokenizer = WordPunctTokenizer()\n",
    "\n",
    "\n",
    "def preprocess_document(doc):\n",
    "    filtered_tokens = [token.lower() for token in doc if token.lower().strip() not in stop_words]\n",
    "    doc = ' '.join(filtered_tokens)\n",
    "    doc = re.sub(r'[^a-zA-Z\\s]', '', doc, re.I | re.A)\n",
    "    doc = doc.strip()\n",
    "    return doc"
   ],
   "metadata": {
    "collapsed": false,
    "ExecuteTime": {
     "end_time": "2024-04-18T20:46:25.678313Z",
     "start_time": "2024-04-18T20:46:25.673377Z"
    }
   },
   "id": "168517af1d2d8541"
  },
  {
   "cell_type": "code",
   "execution_count": 80,
   "outputs": [
    {
     "name": "stdout",
     "output_type": "stream",
     "text": [
      "['sense sensibility jane austen', 'chapter', 'family dashwood long settled sussex', 'estate large  residence norland park  centre property   many generations  lived respectable manner engage general good opinion surrounding acquaintance', 'late owner estate single man  lived advanced age  many years life  constant companion housekeeper sister']\n"
     ]
    }
   ],
   "source": [
    "sense_corpus = [preprocess_document(sentence) for sentence in sense_corpus]\n",
    "print(sense_corpus[:5])"
   ],
   "metadata": {
    "collapsed": false,
    "ExecuteTime": {
     "end_time": "2024-04-18T20:46:27.110618Z",
     "start_time": "2024-04-18T20:46:26.905553Z"
    }
   },
   "id": "f0ecd6a26881af43"
  },
  {
   "cell_type": "code",
   "execution_count": 83,
   "outputs": [],
   "source": [
    "from sklearn.feature_extraction.text import CountVectorizer\n",
    "import numpy as np\n",
    "\n",
    "cv = CountVectorizer(min_df=20, max_df=0.6, ngram_range=(1, 2))\n",
    "cv_features = cv.fit_transform(sense_corpus)\n",
    "vocabulary = np.array(cv.get_feature_names_out())"
   ],
   "metadata": {
    "collapsed": false,
    "ExecuteTime": {
     "end_time": "2024-04-18T20:46:45.205685Z",
     "start_time": "2024-04-18T20:46:45.148206Z"
    }
   },
   "id": "74274fed8a1bfa67"
  },
  {
   "cell_type": "code",
   "execution_count": 85,
   "outputs": [
    {
     "data": {
      "text/plain": "array([[ 1.04631720e-02, -4.42348738e-03,  7.16739013e-03, ...,\n        -3.95357297e-03,  2.82344956e-03, -3.14201110e-04],\n       [ 0.00000000e+00, -2.33571148e-32,  1.64819939e-18, ...,\n        -4.76341715e-18,  2.35688937e-18, -2.33999274e-18],\n       [ 2.12177867e-01,  1.74832629e-01,  5.77423507e-02, ...,\n        -1.89999847e-01,  8.66765901e-02, -5.28209975e-01],\n       ...,\n       [ 1.88233295e+00,  2.11183896e+00, -4.61322709e-01, ...,\n        -6.61044545e-01,  7.07635148e-01, -1.43899129e-01],\n       [ 1.58939452e+00, -1.07479217e+00, -1.74725589e-01, ...,\n         1.62096514e-02,  3.34372515e-01, -1.40958259e-01],\n       [ 2.06130473e-02,  6.77057212e-04,  9.99010900e-03, ...,\n        -6.43794228e-03,  1.01203384e-03,  2.36932058e-02]])"
     },
     "execution_count": 85,
     "metadata": {},
     "output_type": "execute_result"
    }
   ],
   "source": [
    "from sklearn.decomposition import TruncatedSVD\n",
    "\n",
    "lsi_model = TruncatedSVD(n_components=10, n_iter=500, random_state=1234)\n",
    "document_topics = lsi_model.fit_transform(cv_features)\n",
    "document_topics"
   ],
   "metadata": {
    "collapsed": false,
    "ExecuteTime": {
     "end_time": "2024-04-18T20:48:34.864980Z",
     "start_time": "2024-04-18T20:48:33.555098Z"
    }
   },
   "id": "f121b3bdb5d020d0"
  },
  {
   "cell_type": "code",
   "execution_count": null,
   "outputs": [],
   "source": [],
   "metadata": {
    "collapsed": false
   },
   "id": "8eb230c061d094da"
  }
 ],
 "metadata": {
  "kernelspec": {
   "display_name": "Python 3",
   "language": "python",
   "name": "python3"
  },
  "language_info": {
   "codemirror_mode": {
    "name": "ipython",
    "version": 2
   },
   "file_extension": ".py",
   "mimetype": "text/x-python",
   "name": "python",
   "nbconvert_exporter": "python",
   "pygments_lexer": "ipython2",
   "version": "2.7.6"
  }
 },
 "nbformat": 4,
 "nbformat_minor": 5
}
