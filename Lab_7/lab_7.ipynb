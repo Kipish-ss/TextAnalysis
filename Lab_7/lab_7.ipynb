{
 "cells": [
  {
   "cell_type": "markdown",
   "id": "4b43a1465f753a04",
   "metadata": {
    "collapsed": false,
    "jupyter": {
     "outputs_hidden": false
    }
   },
   "source": [
    "1. Створити кілька своїх прикладів у форматі json за тематикою варіанту (англійською або українською мовою) для розпізнавання нового типу сутностей (обрати самостійно). Створити програму, що додає ці приклади до існуючої моделі spaCy, навчає модель. Продемонструвати роботу.\n",
    "2. Застосувати компонент TextCategorizer для визначення намірів. Дані для навчання за тематикою варіанту обрати самостійно або скористатись вказаним файлом (utterance містить висловлювання, intent - намір). Дані файли містять приклади діалогів користувачів з системою-помічником за певною тематикою, наприклад, замовлення квитків і т.д. Навчити компонент та продемонструвати роботу.\n",
    "\n",
    "Тематика: таксі та оренда машин. Файл taxiandcars.json."
   ]
  },
  {
   "cell_type": "markdown",
   "id": "454c6aa48202d64c",
   "metadata": {
    "collapsed": false,
    "jupyter": {
     "outputs_hidden": false
    }
   },
   "source": [
    "## Зчитування json файлу з навчальними прикладами за тематикою таксі та оренди машин (англійською мовою)"
   ]
  },
  {
   "cell_type": "code",
   "execution_count": 1,
   "id": "initial_id",
   "metadata": {
    "ExecuteTime": {
     "end_time": "2024-05-26T21:41:55.880408Z",
     "start_time": "2024-05-26T21:41:54.916985Z"
    },
    "collapsed": false,
    "jupyter": {
     "outputs_hidden": false
    }
   },
   "outputs": [
    {
     "data": {
      "text/plain": [
       "[('I rented a car from Hertz last weekend.',\n",
       "  {'entities': [(20, 25, 'CAR_RENTAL_COMPANY')]}),\n",
       " ('We booked our vehicle through Avis for the holiday.',\n",
       "  {'entities': [(30, 34, 'CAR_RENTAL_COMPANY')]}),\n",
       " ('Enterprise provided excellent service during our trip.',\n",
       "  {'entities': [(0, 10, 'CAR_RENTAL_COMPANY')]})]"
      ]
     },
     "execution_count": 1,
     "metadata": {},
     "output_type": "execute_result"
    }
   ],
   "source": [
    "import spacy\n",
    "from spacy.training import Example\n",
    "import random\n",
    "import json\n",
    "\n",
    "nlp = spacy.load('en_core_web_md')\n",
    "\n",
    "with open('train_data.json') as file:\n",
    "    train_data_json = json.load(file)\n",
    "\n",
    "train_data = []\n",
    "for item in train_data_json:\n",
    "    sentence = item['sentence']\n",
    "    value = item['entities']['value']\n",
    "    start = sentence.index(value)\n",
    "    end = start + len(value)\n",
    "    train_data.append((sentence, {'entities': [(start, end, item['entities']['label'])]}))\n",
    "    \n",
    "train_data[:3]"
   ]
  },
  {
   "cell_type": "markdown",
   "id": "beb3fd799ae8583c",
   "metadata": {
    "collapsed": false,
    "jupyter": {
     "outputs_hidden": false
    }
   },
   "source": [
    "## Навчання моделі spaCy для розпізнавання нового типу сутностей"
   ]
  },
  {
   "cell_type": "code",
   "execution_count": 2,
   "id": "abcf21dded9ca363",
   "metadata": {
    "ExecuteTime": {
     "end_time": "2024-05-26T21:41:59.137924Z",
     "start_time": "2024-05-26T21:41:55.883150Z"
    },
    "collapsed": false,
    "jupyter": {
     "outputs_hidden": false
    }
   },
   "outputs": [],
   "source": [
    "epochs = 20\n",
    "other_pipes = [pipe for pipe in nlp.pipe_names if pipe != 'ner']\n",
    "with nlp.disable_pipes(*other_pipes):\n",
    "    optimizer = nlp.create_optimizer()\n",
    "    for i in range(epochs):\n",
    "        random.shuffle(train_data)\n",
    "        for text, annotations in train_data:\n",
    "            doc = nlp.make_doc(text)\n",
    "            example = Example.from_dict(doc, annotations)\n",
    "            nlp.update([example], sgd=optimizer)\n",
    "\n",
    "ner = nlp.get_pipe('ner')\n",
    "ner.to_disk('new_ner_model')"
   ]
  },
  {
   "cell_type": "markdown",
   "id": "decddfe7362d9afd",
   "metadata": {
    "collapsed": false,
    "jupyter": {
     "outputs_hidden": false
    }
   },
   "source": [
    "## Демонстрація навченої моделі"
   ]
  },
  {
   "cell_type": "code",
   "execution_count": 3,
   "id": "f1721266cc102ca5",
   "metadata": {
    "ExecuteTime": {
     "end_time": "2024-05-26T21:41:59.164275Z",
     "start_time": "2024-05-26T21:41:59.139535Z"
    },
    "collapsed": false,
    "jupyter": {
     "outputs_hidden": false
    }
   },
   "outputs": [
    {
     "name": "stdout",
     "output_type": "stream",
     "text": [
      "Text: I need to rent a car from Hertz for my trip.\n",
      "Entity: Hertz, Label: CAR_RENTAL_COMPANY\n",
      "\n",
      "Text: Can you help me book a vehicle through Avis?\n",
      "Entity: Avis, Label: CAR_RENTAL_COMPANY\n",
      "\n",
      "Text: We had a pleasant experience renting from Enterprise.\n",
      "Entity: Enterprise, Label: CAR_RENTAL_COMPANY\n",
      "\n",
      "Text: Hertz provided the best car rental service.\n",
      "Entity: Hertz, Label: CAR_RENTAL_COMPANY\n",
      "\n",
      "Text: I'm looking to book a car rental with Avis for next week.\n",
      "Entity: Avis, Label: CAR_RENTAL_COMPANY\n"
     ]
    }
   ],
   "source": [
    "test_texts = [\n",
    "    'I need to rent a car from Hertz for my trip.',\n",
    "    'Can you help me book a vehicle through Avis?',\n",
    "    'We had a pleasant experience renting from Enterprise.',\n",
    "    'Hertz provided the best car rental service.',\n",
    "    \"I'm looking to book a car rental with Avis for next week.\"\n",
    "]\n",
    "\n",
    "for text in test_texts:\n",
    "    doc = nlp(text)\n",
    "    print(f'Text: {text}')\n",
    "    for ent in doc.ents:\n",
    "        print(f'Entity: {ent.text}, Label: {ent.label_}')\n",
    "    print()"
   ]
  },
  {
   "cell_type": "markdown",
   "id": "ecc996ba57ec11e5",
   "metadata": {
    "collapsed": false,
    "jupyter": {
     "outputs_hidden": false
    }
   },
   "source": [
    "## Зчитування json файлу діалогів користувачів з системою-помічником"
   ]
  },
  {
   "cell_type": "code",
   "execution_count": 4,
   "id": "806aacfdec729c18",
   "metadata": {
    "ExecuteTime": {
     "end_time": "2024-05-26T21:41:59.177717Z",
     "start_time": "2024-05-26T21:41:59.163966Z"
    },
    "collapsed": false,
    "jupyter": {
     "outputs_hidden": false
    }
   },
   "outputs": [],
   "source": [
    "with open('taxiandcars.json') as file:\n",
    "    data = json.load(file)\n",
    "    \n",
    "train_data = []\n",
    "for dialogue in data:\n",
    "    for turn in dialogue['turns']:\n",
    "        if 'frames' in turn and turn['frames']:\n",
    "            frame = turn['frames'][0]\n",
    "            if 'state' in frame and 'active_intent' in frame['state'] and 'utterance' in turn:\n",
    "                intent = frame['state']['active_intent']\n",
    "                utterance = turn['utterance']\n",
    "                train_data.append((utterance, {'cats': {intent: 1}}))"
   ]
  },
  {
   "cell_type": "markdown",
   "id": "cfcaef77c53de8b7",
   "metadata": {
    "collapsed": false,
    "jupyter": {
     "outputs_hidden": false
    }
   },
   "source": [
    "## Застосування компоненту TextCategorizer для визначення намірів"
   ]
  },
  {
   "cell_type": "code",
   "execution_count": 5,
   "id": "4a4bc8b3ebc13f91",
   "metadata": {
    "ExecuteTime": {
     "end_time": "2024-05-26T21:43:46.704283Z",
     "start_time": "2024-05-26T21:41:59.182746Z"
    },
    "collapsed": false,
    "jupyter": {
     "outputs_hidden": false
    }
   },
   "outputs": [],
   "source": [
    "from spacy.pipeline.textcat import Config, DEFAULT_SINGLE_TEXTCAT_MODEL\n",
    "from spacy.training import Example\n",
    "\n",
    "nlp = spacy.blank('en')\n",
    "config = Config({'model': DEFAULT_SINGLE_TEXTCAT_MODEL, 'threshold': 0.5})\n",
    "textcat = nlp.add_pipe('textcat', config=config)\n",
    "for _, annotations in train_data:\n",
    "    for cat in annotations['cats'].keys():\n",
    "        textcat.add_label(cat)\n",
    "\n",
    "train_examples = [Example.from_dict(nlp.make_doc(text), annotations) for text, annotations in train_data]\n",
    "textcat.initialize(lambda: train_examples, nlp=nlp)\n",
    "\n",
    "epochs = 20\n",
    "optimizer = nlp.create_optimizer()\n",
    "for i in range(epochs):\n",
    "    random.shuffle(train_data)\n",
    "    for text, annotations in train_data:\n",
    "        doc = nlp.make_doc(text)\n",
    "        example = Example.from_dict(doc, annotations)\n",
    "        nlp.update([example], sgd=optimizer)"
   ]
  },
  {
   "cell_type": "markdown",
   "id": "430faef3b491703c",
   "metadata": {
    "collapsed": false,
    "jupyter": {
     "outputs_hidden": false
    }
   },
   "source": [
    "## Демонстрація роботи TextCategorizer"
   ]
  },
  {
   "cell_type": "code",
   "execution_count": 6,
   "id": "3eb0d3d2e53bc65e",
   "metadata": {
    "ExecuteTime": {
     "end_time": "2024-05-26T21:43:46.713160Z",
     "start_time": "2024-05-26T21:43:46.704150Z"
    },
    "collapsed": false,
    "jupyter": {
     "outputs_hidden": false
    }
   },
   "outputs": [
    {
     "name": "stdout",
     "output_type": "stream",
     "text": [
      "--------------------------------------------------\n",
      "Text: I need a cab for two people.\n",
      "Most relevant category: GetRide\n",
      "--------------------------------------------------\n",
      "Text: Can you book a car rental for me?\n",
      "Most relevant category: ReserveCar\n",
      "--------------------------------------------------\n",
      "Text: I would like to rent a car for my vacation.\n",
      "Most relevant category: GetCarsAvailable\n",
      "--------------------------------------------------\n",
      "Text: Please call me a taxi.\n",
      "Most relevant category: GetRide\n",
      "--------------------------------------------------\n",
      "Text: I need to go to the airport.\n",
      "Most relevant category: GetRide\n"
     ]
    }
   ],
   "source": [
    "test_texts = [\n",
    "    \"I need a cab for two people.\",\n",
    "    \"Can you book a car rental for me?\",\n",
    "    \"I would like to rent a car for my vacation.\",\n",
    "    \"Please call me a taxi.\",\n",
    "    \"I need to go to the airport.\"\n",
    "]\n",
    "\n",
    "for test_text in test_texts:\n",
    "    doc = nlp(test_text)\n",
    "    print('-' * 50)\n",
    "    print(f\"Text: {test_text}\\nMost relevant category: {max(doc.cats, key=doc.cats.get)}\")"
   ]
  },
  {
   "cell_type": "code",
   "execution_count": 6,
   "id": "80a36faace42d282",
   "metadata": {
    "ExecuteTime": {
     "end_time": "2024-05-26T21:43:46.713457Z",
     "start_time": "2024-05-26T21:43:46.710992Z"
    },
    "collapsed": false,
    "jupyter": {
     "outputs_hidden": false
    }
   },
   "outputs": [],
   "source": []
  }
 ],
 "metadata": {
  "kernelspec": {
   "display_name": "Python 3 (ipykernel)",
   "language": "python",
   "name": "python3"
  },
  "language_info": {
   "codemirror_mode": {
    "name": "ipython",
    "version": 3
   },
   "file_extension": ".py",
   "mimetype": "text/x-python",
   "name": "python",
   "nbconvert_exporter": "python",
   "pygments_lexer": "ipython3",
   "version": "3.11.7"
  }
 },
 "nbformat": 4,
 "nbformat_minor": 5
}
