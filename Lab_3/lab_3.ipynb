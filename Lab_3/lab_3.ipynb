{
 "cells": [
  {
   "cell_type": "markdown",
   "id": "fe1144b22d63cd1f",
   "metadata": {
    "collapsed": false,
    "jupyter": {
     "outputs_hidden": false
    }
   },
   "source": [
    "## Зчитування файлу doc6.txt"
   ]
  },
  {
   "cell_type": "code",
   "execution_count": 1,
   "id": "14f37e0a09e8de69",
   "metadata": {
    "ExecuteTime": {
     "end_time": "2024-03-26T18:36:29.955797Z",
     "start_time": "2024-03-26T18:36:29.938483Z"
    },
    "collapsed": false,
    "jupyter": {
     "outputs_hidden": false
    }
   },
   "outputs": [
    {
     "name": "stdout",
     "output_type": "stream",
     "text": [
      "['Combine the eggs, extract, sugar and salt in a mixing bowl or the bowl of an electric mixer and whip with a hand mixer set at high speed or in a heavy duty mixer fitted with the whip.', 'Graphic design is an essential aspect of any marketing campaign or emerging business.', 'This is in fact a hot topic in medicine these days, and much of the medical literature is devoted to this.', 'While the egg mixture is whipping, combine the flour, cornstarch and baking powder and stir to mix.', 'He paints himself as a lone researcher with a new breakthrough battling an intolerant medical establishment.', 'This simple, seamless graphic design software makes it easy to spice up your marketing and social media initiatives.']\n"
     ]
    }
   ],
   "source": [
    "with open('doc6.txt') as file:\n",
    "    corpus = [line.rstrip() for line in file]\n",
    "print(corpus)"
   ]
  },
  {
   "cell_type": "markdown",
   "id": "ae42adead65ca5f",
   "metadata": {
    "collapsed": false,
    "jupyter": {
     "outputs_hidden": false
    }
   },
   "source": [
    "## Попередня обробка корпусу"
   ]
  },
  {
   "cell_type": "code",
   "execution_count": 2,
   "id": "5ccc0724c05723e7",
   "metadata": {
    "ExecuteTime": {
     "end_time": "2024-03-26T18:36:30.722499Z",
     "start_time": "2024-03-26T18:36:29.943477Z"
    },
    "collapsed": false,
    "jupyter": {
     "outputs_hidden": false
    }
   },
   "outputs": [],
   "source": [
    "from nltk.tokenize import WordPunctTokenizer\n",
    "from nltk.corpus import stopwords\n",
    "import re\n",
    "\n",
    "stop_words = stopwords.words('english')\n",
    "tokenizer = WordPunctTokenizer()\n",
    "\n",
    "\n",
    "def preprocess_document(doc):\n",
    "    doc = re.sub(r'[^a-zA-Z\\s]', '', doc, re.I | re.A)\n",
    "    doc = doc.lower()\n",
    "    doc = doc.strip()\n",
    "    tokens = tokenizer.tokenize(doc)\n",
    "    filtered_tokens = [token for token in tokens if token not in stop_words]\n",
    "    doc = ' '.join(filtered_tokens)\n",
    "    return doc"
   ]
  },
  {
   "cell_type": "code",
   "execution_count": 3,
   "id": "ae3ad44c935e778c",
   "metadata": {
    "ExecuteTime": {
     "end_time": "2024-03-26T18:36:30.992302Z",
     "start_time": "2024-03-26T18:36:30.723449Z"
    },
    "collapsed": false,
    "jupyter": {
     "outputs_hidden": false
    }
   },
   "outputs": [
    {
     "data": {
      "text/html": [
       "<div>\n",
       "<style scoped>\n",
       "    .dataframe tbody tr th:only-of-type {\n",
       "        vertical-align: middle;\n",
       "    }\n",
       "\n",
       "    .dataframe tbody tr th {\n",
       "        vertical-align: top;\n",
       "    }\n",
       "\n",
       "    .dataframe thead th {\n",
       "        text-align: right;\n",
       "    }\n",
       "</style>\n",
       "<table border=\"1\" class=\"dataframe\">\n",
       "  <thead>\n",
       "    <tr style=\"text-align: right;\">\n",
       "      <th></th>\n",
       "      <th>Document</th>\n",
       "    </tr>\n",
       "  </thead>\n",
       "  <tbody>\n",
       "    <tr>\n",
       "      <th>0</th>\n",
       "      <td>combine eggs extract sugar salt mixing bowl bo...</td>\n",
       "    </tr>\n",
       "    <tr>\n",
       "      <th>1</th>\n",
       "      <td>graphic design essential aspect marketing camp...</td>\n",
       "    </tr>\n",
       "    <tr>\n",
       "      <th>2</th>\n",
       "      <td>fact hot topic medicine days much medical lite...</td>\n",
       "    </tr>\n",
       "    <tr>\n",
       "      <th>3</th>\n",
       "      <td>egg mixture whipping combine flour cornstarch ...</td>\n",
       "    </tr>\n",
       "    <tr>\n",
       "      <th>4</th>\n",
       "      <td>paints lone researcher new breakthrough battli...</td>\n",
       "    </tr>\n",
       "    <tr>\n",
       "      <th>5</th>\n",
       "      <td>simple seamless graphic design software makes ...</td>\n",
       "    </tr>\n",
       "  </tbody>\n",
       "</table>\n",
       "</div>"
      ],
      "text/plain": [
       "                                            Document\n",
       "0  combine eggs extract sugar salt mixing bowl bo...\n",
       "1  graphic design essential aspect marketing camp...\n",
       "2  fact hot topic medicine days much medical lite...\n",
       "3  egg mixture whipping combine flour cornstarch ...\n",
       "4  paints lone researcher new breakthrough battli...\n",
       "5  simple seamless graphic design software makes ..."
      ]
     },
     "execution_count": 3,
     "metadata": {},
     "output_type": "execute_result"
    }
   ],
   "source": [
    "import numpy as np\n",
    "import pandas as pd\n",
    "\n",
    "preprocess_corpus = np.vectorize(preprocess_document)\n",
    "preprocessed_corpus = preprocess_corpus(corpus)\n",
    "corpus_df = pd.DataFrame(preprocessed_corpus, columns=['Document'])\n",
    "corpus_df"
   ]
  },
  {
   "cell_type": "markdown",
   "id": "a783dd10aec7b638",
   "metadata": {
    "collapsed": false,
    "jupyter": {
     "outputs_hidden": false
    }
   },
   "source": [
    "## Представлення корпусу як моделі «Сумка n-грам» з використанням уні- та біграм"
   ]
  },
  {
   "cell_type": "code",
   "execution_count": 4,
   "id": "bcb508f6ee64da91",
   "metadata": {
    "ExecuteTime": {
     "end_time": "2024-03-26T18:36:31.001875Z",
     "start_time": "2024-03-26T18:36:30.993309Z"
    },
    "collapsed": false,
    "jupyter": {
     "outputs_hidden": false
    }
   },
   "outputs": [
    {
     "name": "stdout",
     "output_type": "stream",
     "text": [
      "  (0, 14)\t1\n",
      "  (0, 31)\t1\n",
      "  (0, 40)\t1\n",
      "  (0, 114)\t1\n",
      "  (0, 96)\t1\n",
      "  (0, 82)\t1\n",
      "  (0, 6)\t2\n",
      "  (0, 33)\t1\n",
      "  (0, 78)\t3\n",
      "  (0, 118)\t2\n",
      "  (0, 50)\t1\n",
      "  (0, 100)\t1\n",
      "  (0, 54)\t1\n",
      "  (0, 108)\t1\n",
      "  (0, 52)\t1\n",
      "  (0, 25)\t1\n",
      "  (0, 44)\t1\n",
      "  (0, 15)\t1\n",
      "  (0, 32)\t1\n",
      "  (0, 41)\t1\n",
      "  (0, 115)\t1\n",
      "  (0, 97)\t1\n",
      "  (0, 83)\t1\n",
      "  (0, 7)\t1\n",
      "  (0, 8)\t1\n",
      "  :\t:\n",
      "  (4, 60)\t1\n",
      "  (4, 73)\t1\n",
      "  (5, 48)\t1\n",
      "  (5, 21)\t1\n",
      "  (5, 67)\t1\n",
      "  (5, 49)\t1\n",
      "  (5, 102)\t1\n",
      "  (5, 98)\t1\n",
      "  (5, 106)\t1\n",
      "  (5, 65)\t1\n",
      "  (5, 27)\t1\n",
      "  (5, 110)\t1\n",
      "  (5, 104)\t1\n",
      "  (5, 70)\t1\n",
      "  (5, 58)\t1\n",
      "  (5, 103)\t1\n",
      "  (5, 99)\t1\n",
      "  (5, 23)\t1\n",
      "  (5, 107)\t1\n",
      "  (5, 66)\t1\n",
      "  (5, 28)\t1\n",
      "  (5, 111)\t1\n",
      "  (5, 69)\t1\n",
      "  (5, 105)\t1\n",
      "  (5, 71)\t1\n"
     ]
    }
   ],
   "source": [
    "from sklearn.feature_extraction.text import CountVectorizer\n",
    "\n",
    "count_vectorizer = CountVectorizer(ngram_range=(1, 2))\n",
    "bv_matrix = count_vectorizer.fit_transform(preprocessed_corpus)\n",
    "print(bv_matrix)"
   ]
  },
  {
   "cell_type": "code",
   "execution_count": 5,
   "id": "65cddebbbb2ac565",
   "metadata": {
    "ExecuteTime": {
     "end_time": "2024-03-26T18:36:31.004433Z",
     "start_time": "2024-03-26T18:36:31.001430Z"
    },
    "collapsed": false,
    "jupyter": {
     "outputs_hidden": false
    }
   },
   "outputs": [
    {
     "data": {
      "text/html": [
       "<div>\n",
       "<style scoped>\n",
       "    .dataframe tbody tr th:only-of-type {\n",
       "        vertical-align: middle;\n",
       "    }\n",
       "\n",
       "    .dataframe tbody tr th {\n",
       "        vertical-align: top;\n",
       "    }\n",
       "\n",
       "    .dataframe thead th {\n",
       "        text-align: right;\n",
       "    }\n",
       "</style>\n",
       "<table border=\"1\" class=\"dataframe\">\n",
       "  <thead>\n",
       "    <tr style=\"text-align: right;\">\n",
       "      <th></th>\n",
       "      <th>aspect</th>\n",
       "      <th>aspect marketing</th>\n",
       "      <th>baking</th>\n",
       "      <th>baking powder</th>\n",
       "      <th>battling</th>\n",
       "      <th>battling intolerant</th>\n",
       "      <th>bowl</th>\n",
       "      <th>bowl bowl</th>\n",
       "      <th>bowl electric</th>\n",
       "      <th>breakthrough</th>\n",
       "      <th>...</th>\n",
       "      <th>stir</th>\n",
       "      <th>stir mix</th>\n",
       "      <th>sugar</th>\n",
       "      <th>sugar salt</th>\n",
       "      <th>topic</th>\n",
       "      <th>topic medicine</th>\n",
       "      <th>whip</th>\n",
       "      <th>whip hand</th>\n",
       "      <th>whipping</th>\n",
       "      <th>whipping combine</th>\n",
       "    </tr>\n",
       "  </thead>\n",
       "  <tbody>\n",
       "    <tr>\n",
       "      <th>0</th>\n",
       "      <td>0</td>\n",
       "      <td>0</td>\n",
       "      <td>0</td>\n",
       "      <td>0</td>\n",
       "      <td>0</td>\n",
       "      <td>0</td>\n",
       "      <td>2</td>\n",
       "      <td>1</td>\n",
       "      <td>1</td>\n",
       "      <td>0</td>\n",
       "      <td>...</td>\n",
       "      <td>0</td>\n",
       "      <td>0</td>\n",
       "      <td>1</td>\n",
       "      <td>1</td>\n",
       "      <td>0</td>\n",
       "      <td>0</td>\n",
       "      <td>2</td>\n",
       "      <td>1</td>\n",
       "      <td>0</td>\n",
       "      <td>0</td>\n",
       "    </tr>\n",
       "    <tr>\n",
       "      <th>1</th>\n",
       "      <td>1</td>\n",
       "      <td>1</td>\n",
       "      <td>0</td>\n",
       "      <td>0</td>\n",
       "      <td>0</td>\n",
       "      <td>0</td>\n",
       "      <td>0</td>\n",
       "      <td>0</td>\n",
       "      <td>0</td>\n",
       "      <td>0</td>\n",
       "      <td>...</td>\n",
       "      <td>0</td>\n",
       "      <td>0</td>\n",
       "      <td>0</td>\n",
       "      <td>0</td>\n",
       "      <td>0</td>\n",
       "      <td>0</td>\n",
       "      <td>0</td>\n",
       "      <td>0</td>\n",
       "      <td>0</td>\n",
       "      <td>0</td>\n",
       "    </tr>\n",
       "    <tr>\n",
       "      <th>2</th>\n",
       "      <td>0</td>\n",
       "      <td>0</td>\n",
       "      <td>0</td>\n",
       "      <td>0</td>\n",
       "      <td>0</td>\n",
       "      <td>0</td>\n",
       "      <td>0</td>\n",
       "      <td>0</td>\n",
       "      <td>0</td>\n",
       "      <td>0</td>\n",
       "      <td>...</td>\n",
       "      <td>0</td>\n",
       "      <td>0</td>\n",
       "      <td>0</td>\n",
       "      <td>0</td>\n",
       "      <td>1</td>\n",
       "      <td>1</td>\n",
       "      <td>0</td>\n",
       "      <td>0</td>\n",
       "      <td>0</td>\n",
       "      <td>0</td>\n",
       "    </tr>\n",
       "    <tr>\n",
       "      <th>3</th>\n",
       "      <td>0</td>\n",
       "      <td>0</td>\n",
       "      <td>1</td>\n",
       "      <td>1</td>\n",
       "      <td>0</td>\n",
       "      <td>0</td>\n",
       "      <td>0</td>\n",
       "      <td>0</td>\n",
       "      <td>0</td>\n",
       "      <td>0</td>\n",
       "      <td>...</td>\n",
       "      <td>1</td>\n",
       "      <td>1</td>\n",
       "      <td>0</td>\n",
       "      <td>0</td>\n",
       "      <td>0</td>\n",
       "      <td>0</td>\n",
       "      <td>0</td>\n",
       "      <td>0</td>\n",
       "      <td>1</td>\n",
       "      <td>1</td>\n",
       "    </tr>\n",
       "    <tr>\n",
       "      <th>4</th>\n",
       "      <td>0</td>\n",
       "      <td>0</td>\n",
       "      <td>0</td>\n",
       "      <td>0</td>\n",
       "      <td>1</td>\n",
       "      <td>1</td>\n",
       "      <td>0</td>\n",
       "      <td>0</td>\n",
       "      <td>0</td>\n",
       "      <td>1</td>\n",
       "      <td>...</td>\n",
       "      <td>0</td>\n",
       "      <td>0</td>\n",
       "      <td>0</td>\n",
       "      <td>0</td>\n",
       "      <td>0</td>\n",
       "      <td>0</td>\n",
       "      <td>0</td>\n",
       "      <td>0</td>\n",
       "      <td>0</td>\n",
       "      <td>0</td>\n",
       "    </tr>\n",
       "    <tr>\n",
       "      <th>5</th>\n",
       "      <td>0</td>\n",
       "      <td>0</td>\n",
       "      <td>0</td>\n",
       "      <td>0</td>\n",
       "      <td>0</td>\n",
       "      <td>0</td>\n",
       "      <td>0</td>\n",
       "      <td>0</td>\n",
       "      <td>0</td>\n",
       "      <td>0</td>\n",
       "      <td>...</td>\n",
       "      <td>0</td>\n",
       "      <td>0</td>\n",
       "      <td>0</td>\n",
       "      <td>0</td>\n",
       "      <td>0</td>\n",
       "      <td>0</td>\n",
       "      <td>0</td>\n",
       "      <td>0</td>\n",
       "      <td>0</td>\n",
       "      <td>0</td>\n",
       "    </tr>\n",
       "  </tbody>\n",
       "</table>\n",
       "<p>6 rows × 122 columns</p>\n",
       "</div>"
      ],
      "text/plain": [
       "   aspect  aspect marketing  baking  baking powder  battling  \\\n",
       "0       0                 0       0              0         0   \n",
       "1       1                 1       0              0         0   \n",
       "2       0                 0       0              0         0   \n",
       "3       0                 0       1              1         0   \n",
       "4       0                 0       0              0         1   \n",
       "5       0                 0       0              0         0   \n",
       "\n",
       "   battling intolerant  bowl  bowl bowl  bowl electric  breakthrough  ...  \\\n",
       "0                    0     2          1              1             0  ...   \n",
       "1                    0     0          0              0             0  ...   \n",
       "2                    0     0          0              0             0  ...   \n",
       "3                    0     0          0              0             0  ...   \n",
       "4                    1     0          0              0             1  ...   \n",
       "5                    0     0          0              0             0  ...   \n",
       "\n",
       "   stir  stir mix  sugar  sugar salt  topic  topic medicine  whip  whip hand  \\\n",
       "0     0         0      1           1      0               0     2          1   \n",
       "1     0         0      0           0      0               0     0          0   \n",
       "2     0         0      0           0      1               1     0          0   \n",
       "3     1         1      0           0      0               0     0          0   \n",
       "4     0         0      0           0      0               0     0          0   \n",
       "5     0         0      0           0      0               0     0          0   \n",
       "\n",
       "   whipping  whipping combine  \n",
       "0         0                 0  \n",
       "1         0                 0  \n",
       "2         0                 0  \n",
       "3         1                 1  \n",
       "4         0                 0  \n",
       "5         0                 0  \n",
       "\n",
       "[6 rows x 122 columns]"
      ]
     },
     "execution_count": 5,
     "metadata": {},
     "output_type": "execute_result"
    }
   ],
   "source": [
    "import pandas as pd\n",
    "\n",
    "vocab = count_vectorizer.get_feature_names_out()\n",
    "bag_of_words = pd.DataFrame(bv_matrix.toarray(), columns=vocab)\n",
    "bag_of_words"
   ]
  },
  {
   "cell_type": "markdown",
   "id": "9cd110a62465f103",
   "metadata": {
    "collapsed": false,
    "jupyter": {
     "outputs_hidden": false
    }
   },
   "source": [
    "## Вектор для біграми graphic design"
   ]
  },
  {
   "cell_type": "code",
   "execution_count": 6,
   "id": "bc80bfa8ce36b841",
   "metadata": {
    "ExecuteTime": {
     "end_time": "2024-03-26T18:36:31.006317Z",
     "start_time": "2024-03-26T18:36:31.004309Z"
    },
    "collapsed": false,
    "jupyter": {
     "outputs_hidden": false
    }
   },
   "outputs": [
    {
     "data": {
      "text/plain": [
       "0    0\n",
       "1    1\n",
       "2    0\n",
       "3    0\n",
       "4    0\n",
       "5    1\n",
       "Name: graphic design, dtype: int64"
      ]
     },
     "execution_count": 6,
     "metadata": {},
     "output_type": "execute_result"
    }
   ],
   "source": [
    "bag_of_words['graphic design']"
   ]
  },
  {
   "cell_type": "markdown",
   "id": "e5f2388537374654",
   "metadata": {
    "collapsed": false,
    "jupyter": {
     "outputs_hidden": false
    }
   },
   "source": [
    "## Представлення корпусу як моделі TF-IDF"
   ]
  },
  {
   "cell_type": "code",
   "execution_count": 7,
   "id": "6b8b18a5b109a194",
   "metadata": {
    "ExecuteTime": {
     "end_time": "2024-03-26T18:36:31.014897Z",
     "start_time": "2024-03-26T18:36:31.008457Z"
    },
    "collapsed": false,
    "jupyter": {
     "outputs_hidden": false
    }
   },
   "outputs": [],
   "source": [
    "from sklearn.feature_extraction.text import TfidfVectorizer\n",
    "\n",
    "tfidf_vectorizer = TfidfVectorizer()\n",
    "tv_matrix = tfidf_vectorizer.fit_transform(preprocessed_corpus)"
   ]
  },
  {
   "cell_type": "markdown",
   "id": "e9fca7a0b2a69bdc",
   "metadata": {
    "collapsed": false,
    "jupyter": {
     "outputs_hidden": false
    }
   },
   "source": [
    "## Кластеризація документів за допомогою ієрархічної агломераційної кластеризації"
   ]
  },
  {
   "cell_type": "code",
   "execution_count": 8,
   "id": "c9b21e0f83d23499",
   "metadata": {
    "ExecuteTime": {
     "end_time": "2024-03-26T18:36:31.015408Z",
     "start_time": "2024-03-26T18:36:31.011603Z"
    },
    "collapsed": false,
    "jupyter": {
     "outputs_hidden": false
    }
   },
   "outputs": [
    {
     "data": {
      "text/plain": [
       "array([[1.        , 0.        , 0.        , 0.03903922, 0.        ,\n",
       "        0.        ],\n",
       "       [0.        , 1.        , 0.        , 0.        , 0.        ,\n",
       "        0.2294262 ],\n",
       "       [0.        , 0.        , 1.        , 0.        , 0.07753582,\n",
       "        0.        ],\n",
       "       [0.03903922, 0.        , 0.        , 1.        , 0.        ,\n",
       "        0.        ],\n",
       "       [0.        , 0.        , 0.07753582, 0.        , 1.        ,\n",
       "        0.        ],\n",
       "       [0.        , 0.2294262 , 0.        , 0.        , 0.        ,\n",
       "        1.        ]])"
      ]
     },
     "execution_count": 8,
     "metadata": {},
     "output_type": "execute_result"
    }
   ],
   "source": [
    "from sklearn.metrics.pairwise import cosine_similarity\n",
    "\n",
    "similarity_matrix = cosine_similarity(tv_matrix)\n",
    "similarity_matrix"
   ]
  },
  {
   "cell_type": "code",
   "execution_count": 9,
   "id": "aecdd56f87a70d8c",
   "metadata": {
    "ExecuteTime": {
     "end_time": "2024-03-26T18:36:31.388983Z",
     "start_time": "2024-03-26T18:36:31.014726Z"
    },
    "collapsed": false,
    "jupyter": {
     "outputs_hidden": false
    }
   },
   "outputs": [
    {
     "data": {
      "image/png": "[encoded data removed]",
      "text/plain": [
       "<Figure size 800x600 with 1 Axes>"
      ]
     },
     "metadata": {},
     "output_type": "display_data"
    }
   ],
   "source": [
    "from scipy.cluster.hierarchy import dendrogram, linkage\n",
    "import matplotlib.pyplot as plt\n",
    "\n",
    "links = linkage(similarity_matrix, 'ward')\n",
    "plt.figure(figsize=(8, 6))\n",
    "plt.xlabel('Documents')\n",
    "plt.ylabel('Distance')\n",
    "dendrogram(links)\n",
    "plt.show()"
   ]
  },
  {
   "cell_type": "code",
   "execution_count": 10,
   "id": "3bbebc6f6905ac45",
   "metadata": {
    "ExecuteTime": {
     "end_time": "2024-03-26T18:36:31.428296Z",
     "start_time": "2024-03-26T18:36:31.389559Z"
    },
    "collapsed": false,
    "jupyter": {
     "outputs_hidden": false
    }
   },
   "outputs": [
    {
     "data": {
      "text/html": [
       "<div>\n",
       "<style scoped>\n",
       "    .dataframe tbody tr th:only-of-type {\n",
       "        vertical-align: middle;\n",
       "    }\n",
       "\n",
       "    .dataframe tbody tr th {\n",
       "        vertical-align: top;\n",
       "    }\n",
       "\n",
       "    .dataframe thead th {\n",
       "        text-align: right;\n",
       "    }\n",
       "</style>\n",
       "<table border=\"1\" class=\"dataframe\">\n",
       "  <thead>\n",
       "    <tr style=\"text-align: right;\">\n",
       "      <th></th>\n",
       "      <th>Document</th>\n",
       "      <th>ClusterLabel</th>\n",
       "    </tr>\n",
       "  </thead>\n",
       "  <tbody>\n",
       "    <tr>\n",
       "      <th>0</th>\n",
       "      <td>combine eggs extract sugar salt mixing bowl bo...</td>\n",
       "      <td>3</td>\n",
       "    </tr>\n",
       "    <tr>\n",
       "      <th>1</th>\n",
       "      <td>graphic design essential aspect marketing camp...</td>\n",
       "      <td>1</td>\n",
       "    </tr>\n",
       "    <tr>\n",
       "      <th>2</th>\n",
       "      <td>fact hot topic medicine days much medical lite...</td>\n",
       "      <td>2</td>\n",
       "    </tr>\n",
       "    <tr>\n",
       "      <th>3</th>\n",
       "      <td>egg mixture whipping combine flour cornstarch ...</td>\n",
       "      <td>3</td>\n",
       "    </tr>\n",
       "    <tr>\n",
       "      <th>4</th>\n",
       "      <td>paints lone researcher new breakthrough battli...</td>\n",
       "      <td>2</td>\n",
       "    </tr>\n",
       "    <tr>\n",
       "      <th>5</th>\n",
       "      <td>simple seamless graphic design software makes ...</td>\n",
       "      <td>1</td>\n",
       "    </tr>\n",
       "  </tbody>\n",
       "</table>\n",
       "</div>"
      ],
      "text/plain": [
       "                                            Document   ClusterLabel\n",
       "0  combine eggs extract sugar salt mixing bowl bo...              3\n",
       "1  graphic design essential aspect marketing camp...              1\n",
       "2  fact hot topic medicine days much medical lite...              2\n",
       "3  egg mixture whipping combine flour cornstarch ...              3\n",
       "4  paints lone researcher new breakthrough battli...              2\n",
       "5  simple seamless graphic design software makes ...              1"
      ]
     },
     "execution_count": 10,
     "metadata": {},
     "output_type": "execute_result"
    }
   ],
   "source": [
    "from scipy.cluster.hierarchy import fcluster\n",
    "\n",
    "max_dist = 1.4\n",
    "cluster_labels = fcluster(links, max_dist, criterion='distance')\n",
    "cluster_labels = pd.DataFrame(cluster_labels, columns=[' ClusterLabel'])\n",
    "pd.concat([corpus_df, cluster_labels], axis=1)"
   ]
  },
  {
   "cell_type": "markdown",
   "id": "5d7055ba0dfa0151",
   "metadata": {
    "collapsed": false,
    "jupyter": {
     "outputs_hidden": false
    }
   },
   "source": [
    "## Представлення корпусу як моделі FastText та знаходження трьох подібних слів до слів mixer, medical"
   ]
  },
  {
   "cell_type": "code",
   "execution_count": 11,
   "id": "7887ab8899e85c21",
   "metadata": {
    "ExecuteTime": {
     "end_time": "2024-03-26T18:36:33.306075Z",
     "start_time": "2024-03-26T18:36:31.411607Z"
    },
    "collapsed": false,
    "jupyter": {
     "outputs_hidden": false
    }
   },
   "outputs": [
    {
     "data": {
      "text/plain": [
       "{'mixer': ['mix', 'mixing', 'mixture'],\n",
       " 'mechanical': ['medical', 'media', 'social']}"
      ]
     },
     "execution_count": 11,
     "metadata": {},
     "output_type": "execute_result"
    }
   ],
   "source": [
    "from gensim.models.fasttext import FastText\n",
    "\n",
    "tokenized_corpus = [doc.split() for doc in preprocessed_corpus]\n",
    "ft_model = FastText(tokenized_corpus, vector_size=300, window=3, min_count=1, sg=1)\n",
    "similar_words = {search_term: [item[0] for item in ft_model.wv.most_similar([search_term], topn=3)] for search_term in ['mixer', 'mechanical']}\n",
    "similar_words"
   ]
  }
 ],
 "metadata": {
  "kernelspec": {
   "display_name": "Python 3 (ipykernel)",
   "language": "python",
   "name": "python3"
  },
  "language_info": {
   "codemirror_mode": {
    "name": "ipython",
    "version": 3
   },
   "file_extension": ".py",
   "mimetype": "text/x-python",
   "name": "python",
   "nbconvert_exporter": "python",
   "pygments_lexer": "ipython3",
   "version": "3.11.7"
  }
 },
 "nbformat": 4,
 "nbformat_minor": 5
}
