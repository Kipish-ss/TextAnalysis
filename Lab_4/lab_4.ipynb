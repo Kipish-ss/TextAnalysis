{
 "cells": [
  {
   "cell_type": "markdown",
   "id": "cf293fcf27bb8eed",
   "metadata": {
    "collapsed": false
   },
   "source": [
    "В якості текстової моделі використати TF-IDF. Виконати класифікацію за допомогою алгоритмів логістична регресія та градієнтний бустинг, порівняти їх точність. Спробувати покращити моделі за допомогою  GridSearchCV."
   ]
  },
  {
   "cell_type": "markdown",
   "id": "ddf07fd5d92199d9",
   "metadata": {
    "collapsed": false
   },
   "source": [
    "## Завантаження файлу у датафрейм"
   ]
  },
  {
   "cell_type": "code",
   "execution_count": 1,
   "id": "c71c05a7dd00d959",
   "metadata": {
    "ExecuteTime": {
     "end_time": "2024-04-04T07:40:00.403274Z",
     "start_time": "2024-04-04T07:39:59.978613Z"
    },
    "collapsed": false
   },
   "outputs": [
    {
     "data": {
      "text/html": [
       "<div>\n",
       "<style scoped>\n",
       "    .dataframe tbody tr th:only-of-type {\n",
       "        vertical-align: middle;\n",
       "    }\n",
       "\n",
       "    .dataframe tbody tr th {\n",
       "        vertical-align: top;\n",
       "    }\n",
       "\n",
       "    .dataframe thead th {\n",
       "        text-align: right;\n",
       "    }\n",
       "</style>\n",
       "<table border=\"1\" class=\"dataframe\">\n",
       "  <thead>\n",
       "    <tr style=\"text-align: right;\">\n",
       "      <th></th>\n",
       "      <th>Comment</th>\n",
       "      <th>Topic</th>\n",
       "    </tr>\n",
       "  </thead>\n",
       "  <tbody>\n",
       "    <tr>\n",
       "      <th>0</th>\n",
       "      <td>A few things. You might have negative- frequen...</td>\n",
       "      <td>Biology</td>\n",
       "    </tr>\n",
       "    <tr>\n",
       "      <th>1</th>\n",
       "      <td>Is it so hard to believe that there exist part...</td>\n",
       "      <td>Physics</td>\n",
       "    </tr>\n",
       "    <tr>\n",
       "      <th>2</th>\n",
       "      <td>There are bees</td>\n",
       "      <td>Biology</td>\n",
       "    </tr>\n",
       "    <tr>\n",
       "      <th>3</th>\n",
       "      <td>I'm a medication technician. And that's alot o...</td>\n",
       "      <td>Biology</td>\n",
       "    </tr>\n",
       "    <tr>\n",
       "      <th>4</th>\n",
       "      <td>Cesium is such a pretty metal.</td>\n",
       "      <td>Chemistry</td>\n",
       "    </tr>\n",
       "    <tr>\n",
       "      <th>...</th>\n",
       "      <td>...</td>\n",
       "      <td>...</td>\n",
       "    </tr>\n",
       "    <tr>\n",
       "      <th>8690</th>\n",
       "      <td>I make similar observations over the last week...</td>\n",
       "      <td>Biology</td>\n",
       "    </tr>\n",
       "    <tr>\n",
       "      <th>8691</th>\n",
       "      <td>You would know.</td>\n",
       "      <td>Biology</td>\n",
       "    </tr>\n",
       "    <tr>\n",
       "      <th>8692</th>\n",
       "      <td>Also use the correct number of sig figs</td>\n",
       "      <td>Chemistry</td>\n",
       "    </tr>\n",
       "    <tr>\n",
       "      <th>8693</th>\n",
       "      <td>What about the ethical delimmas,  groundbreaki...</td>\n",
       "      <td>Biology</td>\n",
       "    </tr>\n",
       "    <tr>\n",
       "      <th>8694</th>\n",
       "      <td>I would like to know too.</td>\n",
       "      <td>Biology</td>\n",
       "    </tr>\n",
       "  </tbody>\n",
       "</table>\n",
       "<p>8695 rows × 2 columns</p>\n",
       "</div>"
      ],
      "text/plain": [
       "                                                Comment      Topic\n",
       "0     A few things. You might have negative- frequen...    Biology\n",
       "1     Is it so hard to believe that there exist part...    Physics\n",
       "2                                        There are bees    Biology\n",
       "3     I'm a medication technician. And that's alot o...    Biology\n",
       "4                        Cesium is such a pretty metal.  Chemistry\n",
       "...                                                 ...        ...\n",
       "8690  I make similar observations over the last week...    Biology\n",
       "8691                                    You would know.    Biology\n",
       "8692            Also use the correct number of sig figs  Chemistry\n",
       "8693  What about the ethical delimmas,  groundbreaki...    Biology\n",
       "8694                          I would like to know too.    Biology\n",
       "\n",
       "[8695 rows x 2 columns]"
      ]
     },
     "execution_count": 1,
     "metadata": {},
     "output_type": "execute_result"
    }
   ],
   "source": [
    "import pandas as pd\n",
    "\n",
    "comments_df = pd.read_csv('science.csv', index_col=0).reset_index(drop=True)\n",
    "comments_df"
   ]
  },
  {
   "cell_type": "markdown",
   "id": "c2cbc3e2f2a2cb49",
   "metadata": {
    "collapsed": false
   },
   "source": [
    "## Видалення дублікатів"
   ]
  },
  {
   "cell_type": "code",
   "execution_count": 2,
   "id": "46096ee06f44578d",
   "metadata": {
    "ExecuteTime": {
     "end_time": "2024-04-04T07:40:00.413594Z",
     "start_time": "2024-04-04T07:40:00.403743Z"
    },
    "collapsed": false
   },
   "outputs": [
    {
     "name": "stdout",
     "output_type": "stream",
     "text": [
      "Duplicates count: 723\n"
     ]
    },
    {
     "data": {
      "text/plain": [
       "Comment    0\n",
       "Topic      0\n",
       "dtype: int64"
      ]
     },
     "execution_count": 2,
     "metadata": {},
     "output_type": "execute_result"
    }
   ],
   "source": [
    "print(f'Duplicates count: {comments_df.duplicated().sum()}')\n",
    "comments_df.isna().sum()"
   ]
  },
  {
   "cell_type": "code",
   "execution_count": 3,
   "id": "eb07ff43b18179d7",
   "metadata": {
    "ExecuteTime": {
     "end_time": "2024-04-04T07:40:00.441660Z",
     "start_time": "2024-04-04T07:40:00.414350Z"
    },
    "collapsed": false
   },
   "outputs": [
    {
     "data": {
      "text/html": [
       "<div>\n",
       "<style scoped>\n",
       "    .dataframe tbody tr th:only-of-type {\n",
       "        vertical-align: middle;\n",
       "    }\n",
       "\n",
       "    .dataframe tbody tr th {\n",
       "        vertical-align: top;\n",
       "    }\n",
       "\n",
       "    .dataframe thead th {\n",
       "        text-align: right;\n",
       "    }\n",
       "</style>\n",
       "<table border=\"1\" class=\"dataframe\">\n",
       "  <thead>\n",
       "    <tr style=\"text-align: right;\">\n",
       "      <th></th>\n",
       "      <th>Comment</th>\n",
       "      <th>Topic</th>\n",
       "    </tr>\n",
       "  </thead>\n",
       "  <tbody>\n",
       "    <tr>\n",
       "      <th>0</th>\n",
       "      <td>A few things. You might have negative- frequen...</td>\n",
       "      <td>Biology</td>\n",
       "    </tr>\n",
       "    <tr>\n",
       "      <th>1</th>\n",
       "      <td>Is it so hard to believe that there exist part...</td>\n",
       "      <td>Physics</td>\n",
       "    </tr>\n",
       "    <tr>\n",
       "      <th>2</th>\n",
       "      <td>There are bees</td>\n",
       "      <td>Biology</td>\n",
       "    </tr>\n",
       "    <tr>\n",
       "      <th>3</th>\n",
       "      <td>I'm a medication technician. And that's alot o...</td>\n",
       "      <td>Biology</td>\n",
       "    </tr>\n",
       "    <tr>\n",
       "      <th>4</th>\n",
       "      <td>Cesium is such a pretty metal.</td>\n",
       "      <td>Chemistry</td>\n",
       "    </tr>\n",
       "  </tbody>\n",
       "</table>\n",
       "</div>"
      ],
      "text/plain": [
       "                                             Comment      Topic\n",
       "0  A few things. You might have negative- frequen...    Biology\n",
       "1  Is it so hard to believe that there exist part...    Physics\n",
       "2                                     There are bees    Biology\n",
       "3  I'm a medication technician. And that's alot o...    Biology\n",
       "4                     Cesium is such a pretty metal.  Chemistry"
      ]
     },
     "execution_count": 3,
     "metadata": {},
     "output_type": "execute_result"
    }
   ],
   "source": [
    "comments_df = comments_df.drop_duplicates().reset_index(drop=True)\n",
    "comments_df.head()"
   ]
  },
  {
   "cell_type": "markdown",
   "id": "7f039c1e21ad5bf7",
   "metadata": {
    "collapsed": false
   },
   "source": [
    "## Пошук порожніх документів"
   ]
  },
  {
   "cell_type": "code",
   "execution_count": 4,
   "id": "31b584bdcb0c0da2",
   "metadata": {
    "ExecuteTime": {
     "end_time": "2024-04-04T07:40:00.478814Z",
     "start_time": "2024-04-04T07:40:00.427654Z"
    },
    "collapsed": false
   },
   "outputs": [
    {
     "data": {
      "text/html": [
       "<div>\n",
       "<style scoped>\n",
       "    .dataframe tbody tr th:only-of-type {\n",
       "        vertical-align: middle;\n",
       "    }\n",
       "\n",
       "    .dataframe tbody tr th {\n",
       "        vertical-align: top;\n",
       "    }\n",
       "\n",
       "    .dataframe thead th {\n",
       "        text-align: right;\n",
       "    }\n",
       "</style>\n",
       "<table border=\"1\" class=\"dataframe\">\n",
       "  <thead>\n",
       "    <tr style=\"text-align: right;\">\n",
       "      <th></th>\n",
       "      <th>Comment</th>\n",
       "      <th>Topic</th>\n",
       "    </tr>\n",
       "  </thead>\n",
       "  <tbody>\n",
       "  </tbody>\n",
       "</table>\n",
       "</div>"
      ],
      "text/plain": [
       "Empty DataFrame\n",
       "Columns: [Comment, Topic]\n",
       "Index: []"
      ]
     },
     "execution_count": 4,
     "metadata": {},
     "output_type": "execute_result"
    }
   ],
   "source": [
    "comments_df[comments_df['Comment'].str.strip() == '']"
   ]
  },
  {
   "cell_type": "markdown",
   "id": "b260b75de9b35e86",
   "metadata": {
    "collapsed": false
   },
   "source": [
    "## Попередня обробка документів"
   ]
  },
  {
   "cell_type": "code",
   "execution_count": 5,
   "id": "f128cd5938cf0aa4",
   "metadata": {
    "ExecuteTime": {
     "end_time": "2024-04-04T07:40:01.290585Z",
     "start_time": "2024-04-04T07:40:00.430885Z"
    },
    "collapsed": false
   },
   "outputs": [],
   "source": [
    "import re\n",
    "from nltk.tokenize import WordPunctTokenizer\n",
    "from nltk.corpus import stopwords\n",
    "\n",
    "stop_words = stopwords.words('english')\n",
    "tokenizer = WordPunctTokenizer()\n",
    "\n",
    "\n",
    "def preprocess_document(doc):\n",
    "    doc = re.sub(r'[^a-zA-Z\\s]', '', doc, re.I | re.A)\n",
    "    doc = doc.lower()\n",
    "    doc = doc.strip()\n",
    "    tokens = tokenizer.tokenize(doc)\n",
    "    filtered_tokens = [token for token in tokens if token not in stop_words]\n",
    "    doc = ' '.join(filtered_tokens)\n",
    "    return doc"
   ]
  },
  {
   "cell_type": "code",
   "execution_count": 6,
   "id": "3a2c3d5939c87398",
   "metadata": {
    "ExecuteTime": {
     "end_time": "2024-04-04T07:40:01.504898Z",
     "start_time": "2024-04-04T07:40:01.353828Z"
    },
    "collapsed": false
   },
   "outputs": [
    {
     "data": {
      "text/html": [
       "<div>\n",
       "<style scoped>\n",
       "    .dataframe tbody tr th:only-of-type {\n",
       "        vertical-align: middle;\n",
       "    }\n",
       "\n",
       "    .dataframe tbody tr th {\n",
       "        vertical-align: top;\n",
       "    }\n",
       "\n",
       "    .dataframe thead th {\n",
       "        text-align: right;\n",
       "    }\n",
       "</style>\n",
       "<table border=\"1\" class=\"dataframe\">\n",
       "  <thead>\n",
       "    <tr style=\"text-align: right;\">\n",
       "      <th></th>\n",
       "      <th>Comment</th>\n",
       "      <th>Topic</th>\n",
       "      <th>CleanedComment</th>\n",
       "    </tr>\n",
       "  </thead>\n",
       "  <tbody>\n",
       "    <tr>\n",
       "      <th>0</th>\n",
       "      <td>A few things. You might have negative- frequen...</td>\n",
       "      <td>Biology</td>\n",
       "      <td>things might negative frequency dependent sele...</td>\n",
       "    </tr>\n",
       "    <tr>\n",
       "      <th>1</th>\n",
       "      <td>Is it so hard to believe that there exist part...</td>\n",
       "      <td>Physics</td>\n",
       "      <td>hard believe exist particulars cant detect any...</td>\n",
       "    </tr>\n",
       "    <tr>\n",
       "      <th>2</th>\n",
       "      <td>There are bees</td>\n",
       "      <td>Biology</td>\n",
       "      <td>bees</td>\n",
       "    </tr>\n",
       "    <tr>\n",
       "      <th>3</th>\n",
       "      <td>I'm a medication technician. And that's alot o...</td>\n",
       "      <td>Biology</td>\n",
       "      <td>im medication technician thats alot drugs live...</td>\n",
       "    </tr>\n",
       "    <tr>\n",
       "      <th>4</th>\n",
       "      <td>Cesium is such a pretty metal.</td>\n",
       "      <td>Chemistry</td>\n",
       "      <td>cesium pretty metal</td>\n",
       "    </tr>\n",
       "  </tbody>\n",
       "</table>\n",
       "</div>"
      ],
      "text/plain": [
       "                                             Comment      Topic  \\\n",
       "0  A few things. You might have negative- frequen...    Biology   \n",
       "1  Is it so hard to believe that there exist part...    Physics   \n",
       "2                                     There are bees    Biology   \n",
       "3  I'm a medication technician. And that's alot o...    Biology   \n",
       "4                     Cesium is such a pretty metal.  Chemistry   \n",
       "\n",
       "                                      CleanedComment  \n",
       "0  things might negative frequency dependent sele...  \n",
       "1  hard believe exist particulars cant detect any...  \n",
       "2                                               bees  \n",
       "3  im medication technician thats alot drugs live...  \n",
       "4                                cesium pretty metal  "
      ]
     },
     "execution_count": 6,
     "metadata": {},
     "output_type": "execute_result"
    }
   ],
   "source": [
    "comments_df['CleanedComment'] = comments_df['Comment'].apply(preprocess_document)\n",
    "comments_df.head()"
   ]
  },
  {
   "cell_type": "markdown",
   "id": "a48612cb0225d9ee",
   "metadata": {
    "collapsed": false
   },
   "source": [
    "## Розділення на навчальні та тестові набори"
   ]
  },
  {
   "cell_type": "code",
   "execution_count": 7,
   "id": "353cb1380798f26f",
   "metadata": {
    "ExecuteTime": {
     "end_time": "2024-04-04T07:40:01.511185Z",
     "start_time": "2024-04-04T07:40:01.506008Z"
    },
    "collapsed": false
   },
   "outputs": [],
   "source": [
    "from sklearn.model_selection import train_test_split\n",
    "\n",
    "train_corpus, test_corpus, train_label_names, test_label_names = train_test_split(comments_df['CleanedComment'],\n",
    "                                                                                  comments_df['Topic'], test_size=0.2,\n",
    "                                                                                  stratify=comments_df['Topic'],\n",
    "                                                                                  random_state=1234)"
   ]
  },
  {
   "cell_type": "markdown",
   "id": "e546f598860cf9f0",
   "metadata": {
    "collapsed": false
   },
   "source": [
    "## Вилучення ознак з використанням моделі TF-IDF"
   ]
  },
  {
   "cell_type": "code",
   "execution_count": 8,
   "id": "de0960cdeb4c12fa",
   "metadata": {
    "ExecuteTime": {
     "end_time": "2024-04-04T07:40:01.615405Z",
     "start_time": "2024-04-04T07:40:01.546976Z"
    },
    "collapsed": false
   },
   "outputs": [],
   "source": [
    "from sklearn.feature_extraction.text import TfidfVectorizer\n",
    "\n",
    "tfidf_vectorizer = TfidfVectorizer()\n",
    "tfidf_train_features = tfidf_vectorizer.fit_transform(train_corpus)\n",
    "tfidf_test_features = tfidf_vectorizer.transform(test_corpus)"
   ]
  },
  {
   "cell_type": "markdown",
   "id": "bb2ce5ddc34b6e45",
   "metadata": {
    "collapsed": false
   },
   "source": [
    "## Класифікація за допомогою логістичної регресії"
   ]
  },
  {
   "cell_type": "code",
   "execution_count": 9,
   "id": "defb23849703c491",
   "metadata": {
    "ExecuteTime": {
     "end_time": "2024-04-04T07:40:01.918005Z",
     "start_time": "2024-04-04T07:40:01.616354Z"
    },
    "collapsed": false
   },
   "outputs": [
    {
     "name": "stdout",
     "output_type": "stream",
     "text": [
      "              precision    recall  f1-score   support\n",
      "\n",
      "   Chemistry       0.66      0.67      0.67       575\n",
      "     Biology       0.64      0.79      0.70       611\n",
      "     Physics       0.79      0.50      0.61       409\n",
      "\n",
      "    accuracy                           0.67      1595\n",
      "   macro avg       0.70      0.65      0.66      1595\n",
      "weighted avg       0.69      0.67      0.67      1595\n"
     ]
    }
   ],
   "source": [
    "from sklearn.linear_model import LogisticRegression\n",
    "from sklearn.metrics import classification_report\n",
    "\n",
    "unique_classes = list(set(test_label_names))\n",
    "logistic_regression = LogisticRegression()\n",
    "logistic_regression.fit(tfidf_train_features, train_label_names)\n",
    "predicted_labels = logistic_regression.predict(tfidf_test_features)\n",
    "print(classification_report(test_label_names, predicted_labels, labels=unique_classes))"
   ]
  },
  {
   "cell_type": "markdown",
   "id": "13c261a85193a8b1",
   "metadata": {
    "collapsed": false
   },
   "source": [
    "## Класифікація за допомогою градієнтого бустингу"
   ]
  },
  {
   "cell_type": "code",
   "execution_count": 10,
   "id": "43bbcdc809366de2",
   "metadata": {
    "ExecuteTime": {
     "end_time": "2024-04-04T07:40:08.018716Z",
     "start_time": "2024-04-04T07:40:01.920679Z"
    },
    "collapsed": false
   },
   "outputs": [
    {
     "name": "stdout",
     "output_type": "stream",
     "text": [
      "              precision    recall  f1-score   support\n",
      "\n",
      "   Chemistry       0.72      0.38      0.50       575\n",
      "     Biology       0.49      0.89      0.63       611\n",
      "     Physics       0.83      0.38      0.52       409\n",
      "\n",
      "    accuracy                           0.57      1595\n",
      "   macro avg       0.68      0.55      0.55      1595\n",
      "weighted avg       0.66      0.57      0.56      1595\n"
     ]
    }
   ],
   "source": [
    "from sklearn.ensemble import GradientBoostingClassifier\n",
    "from sklearn.metrics import classification_report\n",
    "\n",
    "gbc = GradientBoostingClassifier()\n",
    "gbc.fit(tfidf_train_features, train_label_names)\n",
    "predicted_labels = gbc.predict(tfidf_test_features)\n",
    "print(classification_report(test_label_names, predicted_labels, labels=unique_classes))"
   ]
  },
  {
   "cell_type": "markdown",
   "id": "ecb5b6f26a54f132",
   "metadata": {
    "collapsed": false
   },
   "source": [
    "## Покращення моделей за допомогою GridSearchCV"
   ]
  },
  {
   "cell_type": "code",
   "execution_count": 11,
   "id": "3277606870ac4828",
   "metadata": {
    "ExecuteTime": {
     "end_time": "2024-04-04T07:40:08.018978Z",
     "start_time": "2024-04-04T07:40:08.015211Z"
    },
    "collapsed": false
   },
   "outputs": [],
   "source": [
    "from sklearn.model_selection import GridSearchCV\n",
    "\n",
    "\n",
    "def tune_model(model, param_grid):\n",
    "    model_cv = GridSearchCV(model, param_grid=param_grid, n_jobs=-1)\n",
    "    model_cv.fit(tfidf_train_features, train_label_names)\n",
    "    print(f\"Best parameters: {model_cv.best_params_}\")\n",
    "    print(f\"Train accuracy: {model_cv.best_score_}\")\n",
    "    print(f\"Test accuracy: {model_cv.score(tfidf_test_features, test_label_names)}\")\n",
    "    return model_cv.best_estimator_ "
   ]
  },
  {
   "cell_type": "code",
   "execution_count": 12,
   "id": "2cb0964fa41ef3ad",
   "metadata": {
    "ExecuteTime": {
     "end_time": "2024-04-04T07:40:10.243838Z",
     "start_time": "2024-04-04T07:40:08.020201Z"
    },
    "collapsed": false
   },
   "outputs": [
    {
     "name": "stdout",
     "output_type": "stream",
     "text": [
      "Best parameters: {'C': 1}\n",
      "Train accuracy: 0.667551662671338\n",
      "Test accuracy: 0.671473354231975\n"
     ]
    }
   ],
   "source": [
    "logistic_regression = LogisticRegression()\n",
    "param_grid = {'C': [0.001, 0.01, 0.1, 0.5, 1, 5, 10]}\n",
    "logistic_regression_cv = tune_model(logistic_regression, param_grid)"
   ]
  },
  {
   "cell_type": "code",
   "execution_count": 13,
   "id": "c792d9ba7ac61b25",
   "metadata": {
    "ExecuteTime": {
     "end_time": "2024-04-04T07:42:42.642303Z",
     "start_time": "2024-04-04T07:40:10.244083Z"
    },
    "collapsed": false
   },
   "outputs": [
    {
     "name": "stdout",
     "output_type": "stream",
     "text": [
      "Best parameters: {'n_estimators': 180}\n",
      "Train accuracy: 0.607179298051509\n",
      "Test accuracy: 0.6012539184952979\n"
     ]
    }
   ],
   "source": [
    "import numpy as np\n",
    "\n",
    "param_grid = {'n_estimators': np.arange(100, 200, 20)}\n",
    "gbc = GradientBoostingClassifier()\n",
    "gbc_cv = tune_model(gbc, param_grid)"
   ]
  },
  {
   "cell_type": "code",
   "execution_count": null,
   "outputs": [],
   "source": [],
   "metadata": {
    "collapsed": false
   },
   "id": "3b4d30888c08015d"
  }
 ],
 "metadata": {
  "kernelspec": {
   "display_name": "Python 3 (ipykernel)",
   "language": "python",
   "name": "python3"
  },
  "language_info": {
   "codemirror_mode": {
    "name": "ipython",
    "version": 3
   },
   "file_extension": ".py",
   "mimetype": "text/x-python",
   "name": "python",
   "nbconvert_exporter": "python",
   "pygments_lexer": "ipython3",
   "version": "3.11.7"
  }
 },
 "nbformat": 4,
 "nbformat_minor": 5
}
