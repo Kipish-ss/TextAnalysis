{
 "cells": [
  {
   "cell_type": "markdown",
   "id": "37b884f330cd6aca",
   "metadata": {
    "collapsed": false
   },
   "source": [
    "1.Файл twitter1.csv. Використати опорні вектори\n",
    "2.Файл lab6-1.txt. а) Знайти та вивести стоп-слова, які присутні у тексті. б) Знайти та вивести всі дієслова, які присутні у тексті. в) Знайти та вивести країни та особи, які присутні у тексті."
   ]
  },
  {
   "cell_type": "markdown",
   "id": "c1a8c366ba71be3e",
   "metadata": {
    "collapsed": false
   },
   "source": [
    "## Завантаження файлу у датафрейм та його огляд"
   ]
  },
  {
   "cell_type": "code",
   "execution_count": 1,
   "id": "7a8f87e2ba2bb4bf",
   "metadata": {
    "ExecuteTime": {
     "end_time": "2024-05-16T09:09:16.580810Z",
     "start_time": "2024-05-16T09:09:16.470022Z"
    },
    "collapsed": false
   },
   "outputs": [
    {
     "data": {
      "text/html": [
       "<div>\n",
       "<style scoped>\n",
       "    .dataframe tbody tr th:only-of-type {\n",
       "        vertical-align: middle;\n",
       "    }\n",
       "\n",
       "    .dataframe tbody tr th {\n",
       "        vertical-align: top;\n",
       "    }\n",
       "\n",
       "    .dataframe thead th {\n",
       "        text-align: right;\n",
       "    }\n",
       "</style>\n",
       "<table border=\"1\" class=\"dataframe\">\n",
       "  <thead>\n",
       "    <tr style=\"text-align: right;\">\n",
       "      <th></th>\n",
       "      <th>0</th>\n",
       "      <th>1</th>\n",
       "      <th>2</th>\n",
       "      <th>3</th>\n",
       "    </tr>\n",
       "  </thead>\n",
       "  <tbody>\n",
       "    <tr>\n",
       "      <th>0</th>\n",
       "      <td>2401</td>\n",
       "      <td>Borderlands</td>\n",
       "      <td>Positive</td>\n",
       "      <td>im getting on borderlands and i will murder yo...</td>\n",
       "    </tr>\n",
       "    <tr>\n",
       "      <th>1</th>\n",
       "      <td>2401</td>\n",
       "      <td>Borderlands</td>\n",
       "      <td>Positive</td>\n",
       "      <td>I am coming to the borders and I will kill you...</td>\n",
       "    </tr>\n",
       "    <tr>\n",
       "      <th>2</th>\n",
       "      <td>2401</td>\n",
       "      <td>Borderlands</td>\n",
       "      <td>Positive</td>\n",
       "      <td>im getting on borderlands and i will kill you ...</td>\n",
       "    </tr>\n",
       "    <tr>\n",
       "      <th>3</th>\n",
       "      <td>2401</td>\n",
       "      <td>Borderlands</td>\n",
       "      <td>Positive</td>\n",
       "      <td>im coming on borderlands and i will murder you...</td>\n",
       "    </tr>\n",
       "    <tr>\n",
       "      <th>4</th>\n",
       "      <td>2401</td>\n",
       "      <td>Borderlands</td>\n",
       "      <td>Positive</td>\n",
       "      <td>im getting on borderlands 2 and i will murder ...</td>\n",
       "    </tr>\n",
       "  </tbody>\n",
       "</table>\n",
       "</div>"
      ],
      "text/plain": [
       "      0            1         2  \\\n",
       "0  2401  Borderlands  Positive   \n",
       "1  2401  Borderlands  Positive   \n",
       "2  2401  Borderlands  Positive   \n",
       "3  2401  Borderlands  Positive   \n",
       "4  2401  Borderlands  Positive   \n",
       "\n",
       "                                                   3  \n",
       "0  im getting on borderlands and i will murder yo...  \n",
       "1  I am coming to the borders and I will kill you...  \n",
       "2  im getting on borderlands and i will kill you ...  \n",
       "3  im coming on borderlands and i will murder you...  \n",
       "4  im getting on borderlands 2 and i will murder ...  "
      ]
     },
     "execution_count": 1,
     "metadata": {},
     "output_type": "execute_result"
    }
   ],
   "source": [
    "import pandas as pd\n",
    "\n",
    "twitter_df = pd.read_csv('twitter1.csv', header=None)\n",
    "twitter_df.head()"
   ]
  },
  {
   "cell_type": "code",
   "execution_count": 2,
   "id": "2f9e9aea564d6062",
   "metadata": {
    "ExecuteTime": {
     "end_time": "2024-05-16T09:09:16.582372Z",
     "start_time": "2024-05-16T09:09:16.579353Z"
    },
    "collapsed": false
   },
   "outputs": [
    {
     "data": {
      "text/plain": [
       "(74682, 4)"
      ]
     },
     "execution_count": 2,
     "metadata": {},
     "output_type": "execute_result"
    }
   ],
   "source": [
    "twitter_df.shape"
   ]
  },
  {
   "cell_type": "code",
   "execution_count": 3,
   "id": "5050e2abbed92679",
   "metadata": {
    "ExecuteTime": {
     "end_time": "2024-05-16T09:09:16.591988Z",
     "start_time": "2024-05-16T09:09:16.582911Z"
    },
    "collapsed": false
   },
   "outputs": [
    {
     "data": {
      "text/plain": [
       "array(['Positive', 'Neutral', 'Negative', 'Irrelevant'], dtype=object)"
      ]
     },
     "execution_count": 3,
     "metadata": {},
     "output_type": "execute_result"
    }
   ],
   "source": [
    "twitter_df = twitter_df.iloc[:, 2:]\n",
    "twitter_df.columns = ['Sentiment', 'Tweet']\n",
    "twitter_df['Sentiment'].unique()"
   ]
  },
  {
   "cell_type": "markdown",
   "id": "855e004a7ea2eb4",
   "metadata": {
    "collapsed": false
   },
   "source": [
    "## Видалення зайвої категорії та перевірка на збалансованість"
   ]
  },
  {
   "cell_type": "code",
   "execution_count": 4,
   "id": "5f4563f7ef1f0e9b",
   "metadata": {
    "ExecuteTime": {
     "end_time": "2024-05-16T09:09:16.887203Z",
     "start_time": "2024-05-16T09:09:16.591806Z"
    },
    "collapsed": false
   },
   "outputs": [
    {
     "data": {
      "image/png": "[encoded data removed]",
      "text/plain": [
       "<Figure size 640x480 with 1 Axes>"
      ]
     },
     "metadata": {},
     "output_type": "display_data"
    }
   ],
   "source": [
    "import seaborn as sns\n",
    "import matplotlib.pyplot as plt\n",
    "\n",
    "twitter_df = twitter_df[twitter_df['Sentiment'] != 'Irrelevant'].reset_index(drop=True)\n",
    "sns.countplot(x='Sentiment', data=twitter_df, order=['Positive', 'Negative'])\n",
    "plt.show()"
   ]
  },
  {
   "cell_type": "markdown",
   "id": "d5385ff5d4294f7d",
   "metadata": {
    "collapsed": false
   },
   "source": [
    "## Видалення пропущених значень та дублікатів"
   ]
  },
  {
   "cell_type": "code",
   "execution_count": 5,
   "id": "3127ea55ba5a3b6b",
   "metadata": {
    "ExecuteTime": {
     "end_time": "2024-05-16T09:09:16.888895Z",
     "start_time": "2024-05-16T09:09:16.763763Z"
    },
    "collapsed": false
   },
   "outputs": [
    {
     "name": "stdout",
     "output_type": "stream",
     "text": [
      "4204\n"
     ]
    },
    {
     "data": {
      "text/plain": [
       "Sentiment      0\n",
       "Tweet        571\n",
       "dtype: int64"
      ]
     },
     "execution_count": 5,
     "metadata": {},
     "output_type": "execute_result"
    }
   ],
   "source": [
    "print(twitter_df.duplicated().sum())\n",
    "twitter_df.isna().sum()"
   ]
  },
  {
   "cell_type": "code",
   "execution_count": 6,
   "id": "840736d809bcb3ca",
   "metadata": {
    "ExecuteTime": {
     "end_time": "2024-05-16T09:09:16.890316Z",
     "start_time": "2024-05-16T09:09:16.794780Z"
    },
    "collapsed": false
   },
   "outputs": [
    {
     "data": {
      "text/plain": [
       "(57485, 2)"
      ]
     },
     "execution_count": 6,
     "metadata": {},
     "output_type": "execute_result"
    }
   ],
   "source": [
    "twitter_df = twitter_df.drop_duplicates().dropna().reset_index(drop=True)\n",
    "twitter_df.shape"
   ]
  },
  {
   "cell_type": "markdown",
   "id": "bbb5170216841674",
   "metadata": {
    "collapsed": false
   },
   "source": [
    "## Попередня обробка корпусу та розділення на навчальні й тестові набори"
   ]
  },
  {
   "cell_type": "code",
   "execution_count": 7,
   "id": "de00230fd69a7c18",
   "metadata": {
    "ExecuteTime": {
     "end_time": "2024-05-16T09:09:17.192377Z",
     "start_time": "2024-05-16T09:09:16.816979Z"
    },
    "collapsed": false
   },
   "outputs": [],
   "source": [
    "from nltk.tokenize import WordPunctTokenizer\n",
    "from nltk.corpus import stopwords\n",
    "import re\n",
    "\n",
    "stop_words = set(stopwords.words('english'))\n",
    "tokenizer = WordPunctTokenizer()\n",
    "\n",
    "\n",
    "def preprocess_document(doc):\n",
    "    doc = re.sub(r'[^a-zA-Z\\s]', '', doc, re.I | re.A)\n",
    "    doc = doc.lower()\n",
    "    doc = doc.strip()\n",
    "    tokens = tokenizer.tokenize(doc)\n",
    "    filtered_tokens = [token for token in tokens if token not in stop_words and len(token) > 2]\n",
    "    doc = ' '.join(filtered_tokens)\n",
    "    return doc"
   ]
  },
  {
   "cell_type": "code",
   "execution_count": 8,
   "id": "5b45dca22d3c735c",
   "metadata": {
    "ExecuteTime": {
     "end_time": "2024-05-16T09:09:17.523840Z",
     "start_time": "2024-05-16T09:09:17.222778Z"
    },
    "collapsed": false
   },
   "outputs": [
    {
     "data": {
      "text/html": [
       "<div>\n",
       "<style scoped>\n",
       "    .dataframe tbody tr th:only-of-type {\n",
       "        vertical-align: middle;\n",
       "    }\n",
       "\n",
       "    .dataframe tbody tr th {\n",
       "        vertical-align: top;\n",
       "    }\n",
       "\n",
       "    .dataframe thead th {\n",
       "        text-align: right;\n",
       "    }\n",
       "</style>\n",
       "<table border=\"1\" class=\"dataframe\">\n",
       "  <thead>\n",
       "    <tr style=\"text-align: right;\">\n",
       "      <th></th>\n",
       "      <th>Sentiment</th>\n",
       "      <th>Tweet</th>\n",
       "    </tr>\n",
       "  </thead>\n",
       "  <tbody>\n",
       "    <tr>\n",
       "      <th>0</th>\n",
       "      <td>Positive</td>\n",
       "      <td>getting borderlands murder</td>\n",
       "    </tr>\n",
       "    <tr>\n",
       "      <th>1</th>\n",
       "      <td>Positive</td>\n",
       "      <td>coming borders kill</td>\n",
       "    </tr>\n",
       "    <tr>\n",
       "      <th>2</th>\n",
       "      <td>Positive</td>\n",
       "      <td>getting borderlands kill</td>\n",
       "    </tr>\n",
       "    <tr>\n",
       "      <th>3</th>\n",
       "      <td>Positive</td>\n",
       "      <td>coming borderlands murder</td>\n",
       "    </tr>\n",
       "    <tr>\n",
       "      <th>4</th>\n",
       "      <td>Positive</td>\n",
       "      <td>getting borderlands murder</td>\n",
       "    </tr>\n",
       "  </tbody>\n",
       "</table>\n",
       "</div>"
      ],
      "text/plain": [
       "  Sentiment                       Tweet\n",
       "0  Positive  getting borderlands murder\n",
       "1  Positive         coming borders kill\n",
       "2  Positive    getting borderlands kill\n",
       "3  Positive   coming borderlands murder\n",
       "4  Positive  getting borderlands murder"
      ]
     },
     "execution_count": 8,
     "metadata": {},
     "output_type": "execute_result"
    }
   ],
   "source": [
    "twitter_df['Tweet'] = twitter_df['Tweet'].apply(preprocess_document)\n",
    "twitter_df.head()"
   ]
  },
  {
   "cell_type": "code",
   "execution_count": 9,
   "id": "3270bf4bedb77c89",
   "metadata": {
    "ExecuteTime": {
     "end_time": "2024-05-16T09:09:17.554092Z",
     "start_time": "2024-05-16T09:09:17.537119Z"
    },
    "collapsed": false
   },
   "outputs": [],
   "source": [
    "from sklearn.model_selection import train_test_split\n",
    "\n",
    "train_corpus, test_corpus, train_sentiment_labels, test_sentiment_labels = train_test_split(twitter_df['Tweet'],\n",
    "                                                                                            twitter_df['Sentiment'],\n",
    "                                                                                            test_size=0.2,\n",
    "                                                                                            stratify=twitter_df[\n",
    "                                                                                                'Sentiment'],\n",
    "                                                                                            random_state=1234)"
   ]
  },
  {
   "cell_type": "markdown",
   "id": "18616a406ad95351",
   "metadata": {
    "collapsed": false
   },
   "source": [
    "## Векторизація корпусу з використанням tf-idf"
   ]
  },
  {
   "cell_type": "code",
   "execution_count": 10,
   "id": "926c833b8ae5f8a4",
   "metadata": {
    "ExecuteTime": {
     "end_time": "2024-05-16T09:09:18.203730Z",
     "start_time": "2024-05-16T09:09:17.605153Z"
    },
    "collapsed": false
   },
   "outputs": [],
   "source": [
    "from sklearn.feature_extraction.text import TfidfVectorizer\n",
    "\n",
    "tfidf_vectorizer = TfidfVectorizer(min_df=5, ngram_range=(1, 2))\n",
    "tfidf_train_features = tfidf_vectorizer.fit_transform(train_corpus)\n",
    "tfidf_test_features = tfidf_vectorizer.transform(test_corpus)"
   ]
  },
  {
   "cell_type": "markdown",
   "id": "38611c89056fce1",
   "metadata": {
    "collapsed": false
   },
   "source": [
    "## SVC для аналізу настроїв"
   ]
  },
  {
   "cell_type": "code",
   "execution_count": 11,
   "id": "271d1702c9054f20",
   "metadata": {
    "ExecuteTime": {
     "end_time": "2024-05-16T09:09:53.494210Z",
     "start_time": "2024-05-16T09:09:18.204730Z"
    },
    "collapsed": false
   },
   "outputs": [
    {
     "name": "stderr",
     "output_type": "stream",
     "text": [
      "/Users/kyryl/anaconda3/envs/TextAnalysis/lib/python3.11/site-packages/sklearn/svm/_base.py:297: ConvergenceWarning: Solver terminated early (max_iter=2500).  Consider pre-processing your data with StandardScaler or MinMaxScaler.\n",
      "  warnings.warn(\n"
     ]
    },
    {
     "name": "stdout",
     "output_type": "stream",
     "text": [
      "              precision    recall  f1-score   support\n",
      "\n",
      "    Negative       0.90      0.92      0.91      4247\n",
      "    Positive       0.91      0.90      0.90      3828\n",
      "     Neutral       0.89      0.88      0.89      3422\n",
      "\n",
      "    accuracy                           0.90     11497\n",
      "   macro avg       0.90      0.90      0.90     11497\n",
      "weighted avg       0.90      0.90      0.90     11497\n"
     ]
    }
   ],
   "source": [
    "from sklearn.svm import SVC\n",
    "from sklearn.metrics import classification_report\n",
    "\n",
    "svc = SVC(max_iter=2500, random_state=1234)\n",
    "svc.fit(tfidf_train_features, train_sentiment_labels)\n",
    "predicted_sentiments = svc.predict(tfidf_test_features)\n",
    "unique_classes = list(set(test_sentiment_labels))\n",
    "print(classification_report(test_sentiment_labels, predicted_sentiments, labels=unique_classes))"
   ]
  },
  {
   "cell_type": "markdown",
   "id": "751ce75397a58d92",
   "metadata": {
    "collapsed": false
   },
   "source": [
    "## TextBlob для аналізу настроїв"
   ]
  },
  {
   "cell_type": "code",
   "execution_count": 12,
   "id": "2df3016bccf10335",
   "metadata": {
    "ExecuteTime": {
     "end_time": "2024-05-16T09:09:54.247891Z",
     "start_time": "2024-05-16T09:09:53.496482Z"
    },
    "collapsed": false
   },
   "outputs": [
    {
     "name": "stdout",
     "output_type": "stream",
     "text": [
      "              precision    recall  f1-score   support\n",
      "\n",
      "    Negative       0.57      0.47      0.52      4247\n",
      "    Positive       0.48      0.65      0.55      3828\n",
      "     Neutral       0.36      0.30      0.32      3422\n",
      "\n",
      "    accuracy                           0.48     11497\n",
      "   macro avg       0.47      0.47      0.46     11497\n",
      "weighted avg       0.48      0.48      0.47     11497\n"
     ]
    }
   ],
   "source": [
    "from textblob import TextBlob\n",
    "\n",
    "\n",
    "def get_sentiment(tweet):\n",
    "    score = TextBlob(tweet).sentiment.polarity\n",
    "    if score < 0:\n",
    "        return 'Negative'\n",
    "    elif score == 0:\n",
    "        return 'Neutral'\n",
    "\n",
    "    return 'Positive'\n",
    "\n",
    "\n",
    "predicted_sentiments = test_corpus.apply(get_sentiment)\n",
    "print(classification_report(test_sentiment_labels, predicted_sentiments, labels=unique_classes))"
   ]
  },
  {
   "cell_type": "markdown",
   "id": "700b997d380ffcb",
   "metadata": {
    "collapsed": false
   },
   "source": [
    "## Порівнняння SVC та TextBlob на трьох випадкових записах"
   ]
  },
  {
   "cell_type": "code",
   "execution_count": 13,
   "id": "2727167057b8b301",
   "metadata": {
    "ExecuteTime": {
     "end_time": "2024-05-16T09:09:54.254178Z",
     "start_time": "2024-05-16T09:09:54.243717Z"
    },
    "collapsed": false
   },
   "outputs": [
    {
     "data": {
      "text/html": [
       "<div>\n",
       "<style scoped>\n",
       "    .dataframe tbody tr th:only-of-type {\n",
       "        vertical-align: middle;\n",
       "    }\n",
       "\n",
       "    .dataframe tbody tr th {\n",
       "        vertical-align: top;\n",
       "    }\n",
       "\n",
       "    .dataframe thead th {\n",
       "        text-align: right;\n",
       "    }\n",
       "</style>\n",
       "<table border=\"1\" class=\"dataframe\">\n",
       "  <thead>\n",
       "    <tr style=\"text-align: right;\">\n",
       "      <th></th>\n",
       "      <th>Sentiment</th>\n",
       "      <th>Tweet</th>\n",
       "      <th>Predictions (SVC)</th>\n",
       "      <th>Predictions (TextBlob)</th>\n",
       "    </tr>\n",
       "  </thead>\n",
       "  <tbody>\n",
       "    <tr>\n",
       "      <th>38269</th>\n",
       "      <td>Negative</td>\n",
       "      <td>yall knows nobody announces fifa youre shit fi...</td>\n",
       "      <td>Negative</td>\n",
       "      <td>Negative</td>\n",
       "    </tr>\n",
       "    <tr>\n",
       "      <th>16764</th>\n",
       "      <td>Positive</td>\n",
       "      <td>thank youuu gonna buy level gun fnatic sticker</td>\n",
       "      <td>Positive</td>\n",
       "      <td>Neutral</td>\n",
       "    </tr>\n",
       "    <tr>\n",
       "      <th>22059</th>\n",
       "      <td>Neutral</td>\n",
       "      <td>apex legends season boosted launch trailer you...</td>\n",
       "      <td>Neutral</td>\n",
       "      <td>Neutral</td>\n",
       "    </tr>\n",
       "  </tbody>\n",
       "</table>\n",
       "</div>"
      ],
      "text/plain": [
       "      Sentiment                                              Tweet  \\\n",
       "38269  Negative  yall knows nobody announces fifa youre shit fi...   \n",
       "16764  Positive     thank youuu gonna buy level gun fnatic sticker   \n",
       "22059   Neutral  apex legends season boosted launch trailer you...   \n",
       "\n",
       "      Predictions (SVC) Predictions (TextBlob)  \n",
       "38269          Negative               Negative  \n",
       "16764          Positive                Neutral  \n",
       "22059           Neutral                Neutral  "
      ]
     },
     "execution_count": 13,
     "metadata": {},
     "output_type": "execute_result"
    }
   ],
   "source": [
    "random_sample = twitter_df.sample(3)\n",
    "tweets_vectorized = tfidf_vectorizer.transform(random_sample['Tweet'])\n",
    "true_sentiments = random_sample['Sentiment']\n",
    "random_sample['Predictions (SVC)'] = svc.predict(tweets_vectorized)\n",
    "random_sample['Predictions (TextBlob)'] = random_sample['Tweet'].apply(get_sentiment)\n",
    "random_sample"
   ]
  },
  {
   "cell_type": "markdown",
   "id": "236f622c62621d92",
   "metadata": {
    "collapsed": false
   },
   "source": [
    "## Виведення стоп-слів"
   ]
  },
  {
   "cell_type": "code",
   "execution_count": 14,
   "id": "b0e7cdbc04b54334",
   "metadata": {
    "ExecuteTime": {
     "end_time": "2024-05-16T09:09:55.024920Z",
     "start_time": "2024-05-16T09:09:54.254071Z"
    },
    "collapsed": false
   },
   "outputs": [
    {
     "name": "stdout",
     "output_type": "stream",
     "text": [
      "{'at', 'some', 'but', 'he', 'than', 'the', 'up', 'and', 'they', 'only', 'these', 'after', 'put', 'of', 'their', 'had', 'to', 'just', 'is', 'a', 'were', 'for', 'what', 'us', 'still', 'while', 'down', 'not', 'would', 'are', 'first', 'since', 'in', 'that', 'last', 'been', 'as', 'we', 'part', 'by'}\n"
     ]
    }
   ],
   "source": [
    "import spacy\n",
    "\n",
    "with open('lab6-1.txt') as file:\n",
    "    text = file.read()\n",
    "\n",
    "nlp = spacy.load('en_core_web_sm')\n",
    "text_nlp = nlp(text)\n",
    "\n",
    "present_stop_words = set([token.text.lower() for token in text_nlp if token.is_stop and token.is_alpha])\n",
    "\n",
    "print(present_stop_words)"
   ]
  },
  {
   "cell_type": "markdown",
   "id": "85a4b9e760667a34",
   "metadata": {
    "collapsed": false
   },
   "source": [
    "## Виведення усіх дієслів у тексті"
   ]
  },
  {
   "cell_type": "code",
   "execution_count": 15,
   "id": "f4d9917e79f8939a",
   "metadata": {
    "ExecuteTime": {
     "end_time": "2024-05-16T09:09:55.031131Z",
     "start_time": "2024-05-16T09:09:55.025606Z"
    },
    "collapsed": false
   },
   "outputs": [
    {
     "name": "stdout",
     "output_type": "stream",
     "text": [
      "{'rise', 'drive', 'spend', 'include', 'dip', 'fall', 'expect', 'fuel', 'drop', 'give', 'put', 'add', 'exclude', 'see', 'continue', 'jump', 'agree', 'say', 'retain', 'come'}\n"
     ]
    }
   ],
   "source": [
    "from spacy.symbols import VERB\n",
    "\n",
    "verbs = {token.lemma_ for token in text_nlp if token.pos == VERB}\n",
    "print(verbs)"
   ]
  },
  {
   "cell_type": "markdown",
   "id": "6ecbe9223b2495c3",
   "metadata": {
    "collapsed": false
   },
   "source": [
    "## Виведення осіб та країн у тексті"
   ]
  },
  {
   "cell_type": "code",
   "execution_count": 16,
   "id": "978316a6e34d057",
   "metadata": {
    "ExecuteTime": {
     "end_time": "2024-05-16T09:09:55.037227Z",
     "start_time": "2024-05-16T09:09:55.028425Z"
    },
    "collapsed": false
   },
   "outputs": [
    {
     "name": "stdout",
     "output_type": "stream",
     "text": [
      "{'Van', 'Jain', 'Parul', 'Steve', 'Gallagher', 'US', 'Rourke'}\n"
     ]
    }
   ],
   "source": [
    "import pycountry\n",
    "\n",
    "countries = {country.name.lower() for country in pycountry.countries}\n",
    "country_abbreviations = {'usa', 'us', 'uk', 'uae'}\n",
    "all_countries = countries.union(country_abbreviations)\n",
    "countries_people = set([token.text for token in text_nlp if\n",
    "                        (token.ent_type_ == \"PERSON\") or (\n",
    "                                token.ent_type_ == \"GPE\" and token.text.lower() in all_countries)])\n",
    "\n",
    "print(countries_people)"
   ]
  },
  {
   "cell_type": "code",
   "execution_count": 16,
   "id": "9cae69d81e0db94c",
   "metadata": {
    "ExecuteTime": {
     "end_time": "2024-05-16T09:09:55.037603Z",
     "start_time": "2024-05-16T09:09:55.035119Z"
    },
    "collapsed": false
   },
   "outputs": [],
   "source": []
  }
 ],
 "metadata": {
  "kernelspec": {
   "display_name": "Python 3 (ipykernel)",
   "language": "python",
   "name": "python3"
  },
  "language_info": {
   "codemirror_mode": {
    "name": "ipython",
    "version": 3
   },
   "file_extension": ".py",
   "mimetype": "text/x-python",
   "name": "python",
   "nbconvert_exporter": "python",
   "pygments_lexer": "ipython3",
   "version": "3.11.7"
  }
 },
 "nbformat": 4,
 "nbformat_minor": 5
}
